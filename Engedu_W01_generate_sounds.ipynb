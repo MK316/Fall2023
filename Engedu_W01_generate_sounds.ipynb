{
  "nbformat": 4,
  "nbformat_minor": 0,
  "metadata": {
    "colab": {
      "private_outputs": true,
      "provenance": [],
      "authorship_tag": "ABX9TyPiaedxrRqdZum7LUVqzf8g",
      "include_colab_link": true
    },
    "kernelspec": {
      "name": "python3",
      "display_name": "Python 3"
    },
    "language_info": {
      "name": "python"
    }
  },
  "cells": [
    {
      "cell_type": "markdown",
      "metadata": {
        "id": "view-in-github",
        "colab_type": "text"
      },
      "source": [
        "<a href=\"https://colab.research.google.com/github/MK316/Fall2023/blob/main/Engedu_W01_generate_sounds.ipynb\" target=\"_parent\"><img src=\"https://colab.research.google.com/assets/colab-badge.svg\" alt=\"Open In Colab\"/></a>"
      ]
    },
    {
      "cell_type": "code",
      "source": [
        "!pip install gtts\n",
        "!pip install pydub"
      ],
      "metadata": {
        "id": "mxRXR0rlkkAZ"
      },
      "execution_count": null,
      "outputs": []
    },
    {
      "cell_type": "code",
      "source": [
        "#@markdown Create words\n",
        "import ipywidgets as widgets\n",
        "from IPython.display import display, Audio\n",
        "\n",
        "# List of words\n",
        "words = [\n",
        "    \"fauxhawk\",\n",
        "    \"cromulent\",\n",
        "    \"interrobang\",\n",
        "    \"gobbledygook\",\n",
        "    \"quixotic\",\n",
        "    \"spork\",\n",
        "    \"zaftig\",\n",
        "    \"kvetch\",\n",
        "    \"noodlephobia\",\n",
        "    \"cafetorium\",\n",
        "]\n",
        "\n",
        "# Dropdown widget\n",
        "word_dropdown = widgets.Dropdown(\n",
        "    options=words,\n",
        "    description='Select a Word:',\n",
        "    disabled=False,\n",
        ")\n",
        "\n",
        "# Audio widget to play the selected word\n",
        "audio_output = widgets.Output()\n",
        "\n",
        "def play_word(selected_word):\n",
        "    audio_output.clear_output()\n",
        "    audio_path = f\"{selected_word}.mp3\"  # Assuming you've already generated audio files\n",
        "    audio_display = Audio(filename=audio_path, autoplay=True)\n",
        "    with audio_output:\n",
        "        display(audio_display)\n",
        "\n",
        "# Event handler for dropdown selection\n",
        "def on_word_selected(change):\n",
        "    selected_word = change['new']\n",
        "    play_word(selected_word)\n",
        "\n",
        "word_dropdown.observe(on_word_selected, names='value')\n",
        "\n",
        "# Display widgets\n",
        "display(word_dropdown)\n",
        "display(audio_output)\n"
      ],
      "metadata": {
        "cellView": "form",
        "id": "41cLjISik8d7"
      },
      "execution_count": null,
      "outputs": []
    }
  ]
}