{
  "nbformat": 4,
  "nbformat_minor": 0,
  "metadata": {
    "colab": {
      "private_outputs": true,
      "provenance": [],
      "authorship_tag": "ABX9TyPffxH62VbGcDS+pA/bjhtU",
      "include_colab_link": true
    },
    "kernelspec": {
      "name": "python3",
      "display_name": "Python 3"
    },
    "language_info": {
      "name": "python"
    }
  },
  "cells": [
    {
      "cell_type": "markdown",
      "metadata": {
        "id": "view-in-github",
        "colab_type": "text"
      },
      "source": [
        "<a href=\"https://colab.research.google.com/github/MK316/Fall2023/blob/main/Engedu_W01_generate_sounds.ipynb\" target=\"_parent\"><img src=\"https://colab.research.google.com/assets/colab-badge.svg\" alt=\"Open In Colab\"/></a>"
      ]
    },
    {
      "cell_type": "markdown",
      "source": [
        "# 🌀 Generating sounds (words) using {gtts}"
      ],
      "metadata": {
        "id": "qCQnci5Gl3AO"
      }
    },
    {
      "cell_type": "markdown",
      "source": [
        "Install packages"
      ],
      "metadata": {
        "id": "s-R5REHGnSfo"
      }
    },
    {
      "cell_type": "code",
      "source": [
        "!pip install gtts\n",
        "!pip install pydub"
      ],
      "metadata": {
        "id": "mxRXR0rlkkAZ"
      },
      "execution_count": null,
      "outputs": []
    },
    {
      "cell_type": "code",
      "source": [
        "#@markdown 🔵 Create words\n",
        "import ipywidgets as widgets\n",
        "from IPython.display import display, Audio\n",
        "\n",
        "# List of words\n",
        "words = [\n",
        "    \"fauxhawk\",\n",
        "    \"cromulent\",\n",
        "    \"interrobang\",\n",
        "    \"gobbledygook\",\n",
        "    \"quixotic\",\n",
        "    \"spork\",\n",
        "    \"zaftig\",\n",
        "    \"kvetch\",\n",
        "    \"noodlephobia\",\n",
        "    \"cafetorium\",\n",
        "]\n",
        "\n",
        "# Dropdown widget\n",
        "word_dropdown = widgets.Dropdown(\n",
        "    options=words,\n",
        "    description='Select a Word:',\n",
        "    disabled=False,\n",
        ")\n",
        "\n",
        "# Audio widget to play the selected word\n",
        "audio_output = widgets.Output()\n",
        "\n",
        "def play_word(selected_word):\n",
        "    audio_output.clear_output()\n",
        "    audio_path = f\"{selected_word}.mp3\"  # Assuming you've already generated audio files\n",
        "    audio_display = Audio(filename=audio_path, autoplay=True)\n",
        "    with audio_output:\n",
        "        display(audio_display)\n",
        "\n",
        "# Event handler for dropdown selection\n",
        "def on_word_selected(change):\n",
        "    selected_word = change['new']\n",
        "    play_word(selected_word)\n",
        "\n",
        "word_dropdown.observe(on_word_selected, names='value')\n",
        "\n",
        "# Display widgets\n",
        "display(word_dropdown)\n",
        "display(audio_output)\n"
      ],
      "metadata": {
        "cellView": "form",
        "id": "41cLjISik8d7"
      },
      "execution_count": null,
      "outputs": []
    },
    {
      "cell_type": "markdown",
      "source": [
        "## 🎶 Generate speech as you type"
      ],
      "metadata": {
        "id": "0wk6s2JnmWOi"
      }
    },
    {
      "cell_type": "code",
      "source": [
        "#@markdown 🔵 Speech as you type:\n",
        "from gtts import gTTS\n",
        "from IPython.display import Audio, display\n",
        "\n",
        "# Get the word from the user\n",
        "word = input(\"Enter a word: \")\n",
        "\n",
        "# Create a gTTS object and generate speech\n",
        "tts = gTTS(word, lang=\"en\")\n",
        "\n",
        "# Specify the filename for the speech file based on the user's word\n",
        "output_filename = f\"{word}.mp3\"\n",
        "\n",
        "# Save the speech as an MP3 file with the provided word as the filename\n",
        "tts.save(output_filename)\n",
        "\n",
        "# Create an Audio widget to automatically play the generated speech\n",
        "audio_widget = Audio(filename=output_filename, autoplay=True)\n",
        "\n",
        "# Display the audio to play it automatically\n",
        "display(audio_widget)\n"
      ],
      "metadata": {
        "cellView": "form",
        "id": "KtPlu-_ymZos"
      },
      "execution_count": null,
      "outputs": []
    }
  ]
}