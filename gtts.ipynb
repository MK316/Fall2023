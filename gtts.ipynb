{
  "nbformat": 4,
  "nbformat_minor": 0,
  "metadata": {
    "colab": {
      "private_outputs": true,
      "provenance": [],
      "authorship_tag": "ABX9TyP0r22h2j+CFCquyH1ZiXbt",
      "include_colab_link": true
    },
    "kernelspec": {
      "name": "python3",
      "display_name": "Python 3"
    },
    "language_info": {
      "name": "python"
    }
  },
  "cells": [
    {
      "cell_type": "markdown",
      "metadata": {
        "id": "view-in-github",
        "colab_type": "text"
      },
      "source": [
        "<a href=\"https://colab.research.google.com/github/MK316/Fall2023/blob/main/gtts.ipynb\" target=\"_parent\"><img src=\"https://colab.research.google.com/assets/colab-badge.svg\" alt=\"Open In Colab\"/></a>"
      ]
    },
    {
      "cell_type": "markdown",
      "source": [
        "# 🌀 Generating speech using gtts (Google Text-To-Speecjh)"
      ],
      "metadata": {
        "id": "taYyESLEcGoC"
      }
    },
    {
      "cell_type": "markdown",
      "source": [
        "* Install necessary libraries"
      ],
      "metadata": {
        "id": "ibjzDtpZc9bf"
      }
    },
    {
      "cell_type": "code",
      "source": [
        "%%capture\n",
        "!pip install gtts\n",
        "!pip install IPython"
      ],
      "metadata": {
        "id": "rG0Hrwq7cKx_"
      },
      "execution_count": null,
      "outputs": []
    },
    {
      "cell_type": "markdown",
      "source": [
        "1. Choose language options (Korean, English, Russian)\n",
        "2. Type texts for speech (you'll see a textbox.)"
      ],
      "metadata": {
        "id": "ED7I_qOCexoQ"
      }
    },
    {
      "cell_type": "code",
      "source": [
        "from gtts import gTTS\n",
        "\n",
        "choice = \"Russian\" #@param [\"Korean\",\"English\",\"Russian\"]\n",
        "\n",
        "# Mapping choice to language code for gTTS\n",
        "lang_map = {\n",
        "    'English': \"en\",\n",
        "    'Korean': \"ko\",\n",
        "    'Russian': \"ru\"\n",
        "}\n",
        "lang_code = lang_map[choice]\n",
        "\n",
        "# Function to generate speech\n",
        "def text_to_speech(text, lang):\n",
        "    tts = gTTS(text=text, lang=lang)\n",
        "    tts.save('mysample.mp3')\n",
        "\n",
        "# Get text input from the user\n",
        "text_input = input(\"Enter the text you want to convert to speech: \")\n",
        "\n",
        "# Generate speech\n",
        "text_to_speech(text_input, lang_code)\n",
        "print(\"Saved the speech to 'mysample.mp3'.\")\n",
        "\n",
        "from IPython.display import Audio\n",
        "\n",
        "# Play the saved audio\n",
        "Audio(\"mysample.mp3\")"
      ],
      "metadata": {
        "cellView": "form",
        "id": "qxyAVSZOcPH_"
      },
      "execution_count": null,
      "outputs": []
    }
  ]
}