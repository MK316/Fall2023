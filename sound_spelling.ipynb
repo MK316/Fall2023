{
  "nbformat": 4,
  "nbformat_minor": 0,
  "metadata": {
    "colab": {
      "private_outputs": true,
      "provenance": [],
      "authorship_tag": "ABX9TyO788yPxHUO3Ir3vLQz5cmF",
      "include_colab_link": true
    },
    "kernelspec": {
      "name": "python3",
      "display_name": "Python 3"
    },
    "language_info": {
      "name": "python"
    }
  },
  "cells": [
    {
      "cell_type": "markdown",
      "metadata": {
        "id": "view-in-github",
        "colab_type": "text"
      },
      "source": [
        "<a href=\"https://colab.research.google.com/github/MK316/Fall2023/blob/main/sound_spelling.ipynb\" target=\"_parent\"><img src=\"https://colab.research.google.com/assets/colab-badge.svg\" alt=\"Open In Colab\"/></a>"
      ]
    },
    {
      "cell_type": "markdown",
      "source": [
        "# Sound and spelling in English"
      ],
      "metadata": {
        "id": "0-5ZmZLnP2WY"
      }
    },
    {
      "cell_type": "code",
      "source": [
        "#@markdown Setup\n",
        "\n",
        "!pip install gtts\n",
        "from gtts import gTTS\n",
        "import pandas as pd\n",
        "from IPython.display import Audio"
      ],
      "metadata": {
        "id": "r4FKOV95_ebs",
        "cellView": "form"
      },
      "execution_count": null,
      "outputs": []
    },
    {
      "cell_type": "code",
      "execution_count": null,
      "metadata": {
        "cellView": "form",
        "id": "CdiH7JuD_L0v"
      },
      "outputs": [],
      "source": [
        "#@markdown Define etts(), 'sample.mp3'\n",
        "def etts(mytext):\n",
        "    tts = gTTS(mytext)\n",
        "    tts.save('sample.mp3')\n",
        "    return Audio('sample.mp3', autoplay=True)"
      ]
    },
    {
      "cell_type": "markdown",
      "source": [
        "## Word in multi-languages"
      ],
      "metadata": {
        "id": "Z4UFtylcP8VX"
      }
    },
    {
      "cell_type": "code",
      "source": [
        "\n",
        "#@markdown Button control TTS\n",
        "from gtts import gTTS\n",
        "from IPython.display import Audio\n",
        "import ipywidgets as widgets\n",
        "\n",
        "def etts(mytext, lang='en', dialect=None, slow=False):\n",
        "    if slow:\n",
        "        speed = 0.5\n",
        "    else:\n",
        "        speed = 1.0\n",
        "\n",
        "    if dialect:\n",
        "        lang_code = f\"{lang}-{dialect}\"\n",
        "    else:\n",
        "        lang_code = lang\n",
        "\n",
        "    tts = gTTS(mytext, lang=lang_code, slow=slow)\n",
        "    tts.speed = speed\n",
        "    tts.save('sample.mp3')\n",
        "    return Audio('sample.mp3', autoplay=True)\n",
        "\n",
        "# Define the language and dialect options\n",
        "languages = {\n",
        "    'English': 'en',\n",
        "    'French': 'fr',\n",
        "    'German': 'de',\n",
        "    'Italian': 'it',\n",
        "    'Japanese': 'ja',\n",
        "    'Korean': 'ko',\n",
        "    'Spanish': 'es',\n",
        "    'Russian': 'ru'\n",
        "}\n",
        "\n",
        "# Create the language and dialect dropdown widgets\n",
        "lang_dropdown = widgets.Dropdown(options=languages, value='en', description='Language:')\n",
        "\n",
        "# Create the slow checkbox widget\n",
        "slow_checkbox = widgets.Checkbox(value=False, description='Slow')\n",
        "\n",
        "# Define a function to handle the button click event\n",
        "def on_button_click(btn):\n",
        "    lang = lang_dropdown.value\n",
        "    display(etts(input_text.value, lang=lang, slow=False))\n",
        "\n",
        "# Create the text input widget and button\n",
        "input_text = widgets.Text(description='Text:')\n",
        "btn = widgets.Button(description='Speak')\n",
        "btn.on_click(on_button_click)\n",
        "\n",
        "# Display the widgets\n",
        "display(widgets.VBox([input_text, lang_dropdown, slow_checkbox, btn]))"
      ],
      "metadata": {
        "cellView": "form",
        "id": "j8QrXJ6H_6-A"
      },
      "execution_count": null,
      "outputs": []
    },
    {
      "cell_type": "markdown",
      "source": [
        "## Listen and guess the spelling"
      ],
      "metadata": {
        "id": "-BNxmMZmVJ9z"
      }
    },
    {
      "cell_type": "code",
      "source": [
        "#@markdown Sound and spelling in English (10 example words): Listen and guess the spelling of the given word.\n",
        "from gtts import gTTS\n",
        "from IPython.display import Audio, display\n",
        "import ipywidgets as widgets\n",
        "\n",
        "def etts(mytext, lang='en', dialect=None, slow=False):\n",
        "    if slow:\n",
        "        speed = 0.5\n",
        "    else:\n",
        "        speed = 1.0\n",
        "\n",
        "    if dialect:\n",
        "        lang_code = f\"{lang}-{dialect}\"\n",
        "    else:\n",
        "        lang_code = lang\n",
        "\n",
        "    tts = gTTS(mytext, lang=lang_code, slow=slow)\n",
        "    tts.speed = speed\n",
        "    tts.save('sample.mp3')\n",
        "    return Audio('sample.mp3', autoplay=True)\n",
        "\n",
        "# Define the language and dialect options\n",
        "languages = {\n",
        "    'English': 'en',\n",
        "    'French': 'fr',\n",
        "    'German': 'de',\n",
        "    'Italian': 'it',\n",
        "    'Japanese': 'ja',\n",
        "    'Korean': 'ko',\n",
        "    'Spanish': 'es',\n",
        "    'Russian': 'ru'\n",
        "}\n",
        "\n",
        "# Words with pronunciation mismatch\n",
        "words = {\n",
        "    '1': 'Colonel',\n",
        "    '2': 'Choir',\n",
        "    '3': 'Island',\n",
        "    '4': 'Bologna',\n",
        "    '5': 'Worcestershire',\n",
        "    '6': 'Thorough',\n",
        "    '7': 'February',\n",
        "    '8': 'Subtle',\n",
        "    '9': 'Hors d\\'oeuvre',\n",
        "    '10': 'Leicester'\n",
        "}\n",
        "\n",
        "# Create the language and word dropdown widgets\n",
        "lang_dropdown = widgets.Dropdown(options=languages, value='en', description='Language:')\n",
        "word_dropdown = widgets.Dropdown(options=words, description='Word:')\n",
        "\n",
        "# Create the slow checkbox widget\n",
        "slow_checkbox = widgets.Checkbox(value=False, description='Slow')\n",
        "\n",
        "# Define a function to handle the button click event\n",
        "def on_button_click(btn):\n",
        "    lang = lang_dropdown.value\n",
        "    word = words[word_dropdown.label]  # Use label instead of value\n",
        "    display(etts(word, lang=lang, slow=slow_checkbox.value))\n",
        "\n",
        "# Function to show the spelling of the selected word\n",
        "def show_spelling(btn):\n",
        "    selected_word = words[word_dropdown.label]  # Use label instead of value\n",
        "    print(f\"Spelling: {selected_word}\")\n",
        "\n",
        "# Create the buttons\n",
        "btn = widgets.Button(description='Speak')\n",
        "btn.on_click(on_button_click)\n",
        "\n",
        "show_spelling_btn = widgets.Button(description='Show Spelling')\n",
        "show_spelling_btn.on_click(show_spelling)\n",
        "\n",
        "# Display the widgets\n",
        "display(widgets.VBox([lang_dropdown, word_dropdown, slow_checkbox, btn, show_spelling_btn]))\n"
      ],
      "metadata": {
        "cellView": "form",
        "id": "E03GqxuMSTbl"
      },
      "execution_count": null,
      "outputs": []
    }
  ]
}