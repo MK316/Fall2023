{
  "nbformat": 4,
  "nbformat_minor": 0,
  "metadata": {
    "colab": {
      "private_outputs": true,
      "provenance": [],
      "authorship_tag": "ABX9TyPVrKoHeXLHjM+5wdweIT4i",
      "include_colab_link": true
    },
    "kernelspec": {
      "name": "python3",
      "display_name": "Python 3"
    },
    "language_info": {
      "name": "python"
    }
  },
  "cells": [
    {
      "cell_type": "markdown",
      "metadata": {
        "id": "view-in-github",
        "colab_type": "text"
      },
      "source": [
        "<a href=\"https://colab.research.google.com/github/MK316/Fall2023/blob/main/Phonetics_TranscriptionRead.ipynb\" target=\"_parent\"><img src=\"https://colab.research.google.com/assets/colab-badge.svg\" alt=\"Open In Colab\"/></a>"
      ]
    },
    {
      "cell_type": "markdown",
      "source": [
        "# 🍀 Transcription reading (11/30, Phonetics): record speech and the app displays as it identifies (using STT Whisper)"
      ],
      "metadata": {
        "id": "rl99LLpQ9hfb"
      }
    },
    {
      "cell_type": "markdown",
      "source": [
        "# Part I: Recording and recognition"
      ],
      "metadata": {
        "id": "VAezL9FAfkC0"
      }
    },
    {
      "cell_type": "markdown",
      "source": [
        "## [0] Install necessary packages"
      ],
      "metadata": {
        "id": "ms0IJKUX97fE"
      }
    },
    {
      "cell_type": "code",
      "execution_count": null,
      "metadata": {
        "id": "fr9oy1jM6MpF"
      },
      "outputs": [],
      "source": [
        "%%capture\n",
        "!pip install gradio\n",
        "!pip install openai-whisper\n",
        "!pip install qrcode\n",
        "!pip install git+https://github.com/openai/whisper.git"
      ]
    },
    {
      "cell_type": "markdown",
      "source": [
        "## [2] Implement STT using Gradio: getting a live link"
      ],
      "metadata": {
        "id": "B58SypL29_Nf"
      }
    },
    {
      "cell_type": "code",
      "source": [
        "#@markdown App using Whisper: speech to text\n",
        "import gradio as gr\n",
        "import whisper\n",
        "\n",
        "def speech_to_text(audio_file_path):\n",
        "    try:\n",
        "        model = whisper.load_model(\"tiny\")  # Using \"tiny\" for better compatibility\n",
        "        audio = whisper.load_audio(audio_file_path)\n",
        "        result = model.transcribe(audio)\n",
        "        return result[\"text\"]\n",
        "    except Exception as e:\n",
        "        return f\"An error occurred: {str(e)}\"\n",
        "\n",
        "iface = gr.Interface(\n",
        "    fn=speech_to_text,\n",
        "    inputs=gr.Audio(type=\"filepath\", label=\"Record your voice\"),\n",
        "    outputs=\"text\",\n",
        "    title=\"Speech to Text Converter\",\n",
        "    description=\"Record your voice and convert it to text using Whisper.\"\n",
        ")\n",
        "\n",
        "iface.launch()\n"
      ],
      "metadata": {
        "cellView": "form",
        "id": "GXBlpxyG8cDm"
      },
      "execution_count": null,
      "outputs": []
    },
    {
      "cell_type": "code",
      "source": [
        "!pip install qrcode"
      ],
      "metadata": {
        "id": "Q1cZdTP7gqTL"
      },
      "execution_count": null,
      "outputs": []
    },
    {
      "cell_type": "markdown",
      "source": [
        "## [3] QR code to generate"
      ],
      "metadata": {
        "id": "_A_FYdWE-Gjr"
      }
    },
    {
      "cell_type": "code",
      "source": [
        "#@markdown 🌀 QR code to generate\n",
        "import qrcode\n",
        "from IPython.display import display\n",
        "from PIL import Image\n",
        "\n",
        "# Replace YOUR_URL_HERE with the URL you copied from the Gradio output\n",
        "url = input(\"Enter the URL to generate QR code: \")\n",
        "\n",
        "# Generate QR code\n",
        "qr = qrcode.QRCode(\n",
        "    version=1,\n",
        "    error_correction=qrcode.constants.ERROR_CORRECT_H,\n",
        "    box_size=12,\n",
        "    border=4,\n",
        ")\n",
        "qr.add_data(url)\n",
        "qr.make(fit=True)\n",
        "img = qr.make_image(fill_color=\"black\", back_color=\"white\")\n",
        "\n",
        "# Display the QR code\n",
        "display(img)\n",
        "\n",
        "# Save the QR code image\n",
        "image_path = '/content/qr_code.png'  # Specify your desired path and file name\n",
        "img.save(image_path)\n",
        "print(f\"QR code saved at {image_path}\")\n"
      ],
      "metadata": {
        "cellView": "form",
        "id": "ZPKG_qw0iexj"
      },
      "execution_count": null,
      "outputs": []
    },
    {
      "cell_type": "markdown",
      "source": [
        "[QR to paste the recognized text](https://docs.google.com/spreadsheets/d/12_hgfEpoYFlBbq-FHyMtpnv_bPuaxL-_c3jiyemffoU/edit#gid=1549122206)"
      ],
      "metadata": {
        "id": "eeJIC1KLgUI1"
      }
    },
    {
      "cell_type": "code",
      "source": [
        "#@markdown 🌀 QR code to generate (Google sheet)\n",
        "import qrcode\n",
        "from IPython.display import display\n",
        "from PIL import Image\n",
        "\n",
        "# Replace YOUR_URL_HERE with the URL you copied from the Gradio output\n",
        "url = \"https://docs.google.com/spreadsheets/d/12_hgfEpoYFlBbq-FHyMtpnv_bPuaxL-_c3jiyemffoU/edit?usp=sharing\"\n",
        "\n",
        "# Generate QR code\n",
        "qr = qrcode.QRCode(\n",
        "    version=1,\n",
        "    error_correction=qrcode.constants.ERROR_CORRECT_H,\n",
        "    box_size=10,\n",
        "    border=4,\n",
        ")\n",
        "qr.add_data(url)\n",
        "qr.make(fit=True)\n",
        "img = qr.make_image(fill_color=\"black\", back_color=\"white\")\n",
        "\n",
        "# Display the QR code\n",
        "display(img)\n",
        "\n",
        "# Save the QR code image\n",
        "image_path = '/content/qr_code_google.png'  # Specify your desired path and file name\n",
        "img.save(image_path)\n",
        "print(f\"QR code saved at {image_path}\")\n"
      ],
      "metadata": {
        "cellView": "form",
        "id": "AxIGXVU0gcVW"
      },
      "execution_count": null,
      "outputs": []
    },
    {
      "cell_type": "markdown",
      "source": [
        "# Part II: Analysis of †he result"
      ],
      "metadata": {
        "id": "S5C86X4VfSoD"
      }
    },
    {
      "cell_type": "markdown",
      "source": [
        "# [1] Install packages"
      ],
      "metadata": {
        "id": "9ESSfgOoLHcO"
      }
    },
    {
      "cell_type": "code",
      "source": [
        "!pip install --upgrade google-auth google-auth-oauthlib google-auth-httplib2"
      ],
      "metadata": {
        "id": "4825fMJ2JDwS"
      },
      "execution_count": null,
      "outputs": []
    },
    {
      "cell_type": "code",
      "source": [
        "%%capture\n",
        "!pip install gtts jiwer matplotlib pandas"
      ],
      "metadata": {
        "id": "d_LLiaeGGfup"
      },
      "execution_count": null,
      "outputs": []
    },
    {
      "cell_type": "markdown",
      "source": [
        "# [2] Google authentification & File to read"
      ],
      "metadata": {
        "id": "u2DyNbOKLPEQ"
      }
    },
    {
      "cell_type": "code",
      "source": [
        "#@markdown 🐳 Google authentification\n",
        "\n",
        "from google.colab import auth\n",
        "auth.authenticate_user()\n",
        "\n",
        "import gspread\n",
        "from google.auth import default\n",
        "\n",
        "# Authenticate and create the gspread client\n",
        "creds, _ = default()\n",
        "gc = gspread.authorize(creds)\n",
        "\n",
        "# Open the Google Sheet and read it into a DataFrame\n",
        "spreadsheet_name = 'transcription1124'  # Replace with your Google Sheet name\n",
        "worksheet = gc.open(spreadsheet_name).sheet1\n",
        "\n",
        "# Get all the values in the Sheet\n",
        "rows = worksheet.get_all_values()\n",
        "\n",
        "# Convert to a DataFrame\n",
        "import pandas as pd\n",
        "df = pd.DataFrame.from_records(rows[1:], columns=rows[0])\n",
        "\n",
        "# Display the first few rows of the DataFrame\n",
        "print(df['Group'].head())\n",
        "\n"
      ],
      "metadata": {
        "cellView": "form",
        "id": "diBlJ_BYIkfm"
      },
      "execution_count": null,
      "outputs": []
    },
    {
      "cell_type": "markdown",
      "source": [
        "[text to compare](https://raw.githubusercontent.com/MK316/Fall2023/main/original.md)"
      ],
      "metadata": {
        "id": "bsoLNml2A32f"
      }
    },
    {
      "cell_type": "markdown",
      "source": [
        "# Modification for different numbers of groups (members)"
      ],
      "metadata": {
        "id": "lgC6NGp1GpZr"
      }
    },
    {
      "cell_type": "markdown",
      "source": [
        "# [3] Calculating WER, finding missing and added words"
      ],
      "metadata": {
        "id": "rGsk367tOic6"
      }
    },
    {
      "cell_type": "markdown",
      "source": [
        "WER is essentially a ratio of the total number of errors (substitutions, insertions, deletions) to the total number of words in the reference text.\n",
        "\n",
        "Here is the basic formula for WER:\n",
        "\n",
        "$$\n",
        "WER = \\frac{\\text{Substitutions} + \\text{Insertions} + \\text{Deletions}}{\\text{Number of Words in Reference}}\n",
        "$$\n",
        "\n",
        "\n"
      ],
      "metadata": {
        "id": "Wxef0x5Tehfh"
      }
    },
    {
      "cell_type": "code",
      "source": [
        "#@markdown 🐳 WER, Missing words, Added words\n",
        "\n",
        "from jiwer import wer\n",
        "import pandas as pd\n",
        "from collections import Counter\n",
        "\n",
        "# Function to calculate WER\n",
        "def calculate_wer(recognized):\n",
        "    return wer(original_text, recognized)\n",
        "\n",
        "# Function to find missing words\n",
        "def find_missing_words(recognized):\n",
        "    original_words = original_text.split()\n",
        "    recognized_words = recognized.split()\n",
        "\n",
        "    original_count = Counter(original_words)\n",
        "    recognized_count = Counter(recognized_words)\n",
        "\n",
        "    missing_words = []\n",
        "    for word in original_count:\n",
        "        if original_count[word] > recognized_count.get(word, 0):\n",
        "            missing_words.append(word)\n",
        "\n",
        "    return ', '.join(missing_words)\n",
        "\n",
        "# Function to find added words\n",
        "def find_added_words(recognized):\n",
        "    original_words = set(original_text.split())\n",
        "    recognized_words = set(recognized.split())\n",
        "\n",
        "    added_words = recognized_words - original_words\n",
        "    return ', '.join(added_words)\n",
        "\n",
        "# Prompt the user to enter the original text\n",
        "original_text = input(\"Please enter the original text: \")\n",
        "\n",
        "# Assuming df is your DataFrame and it has a column named 'Recognized'\n",
        "\n",
        "# Apply the function to calculate WER for each row\n",
        "df['WER'] = df['Recognized'].apply(calculate_wer)\n",
        "\n",
        "# Apply the function to find missing words for each row\n",
        "df['Missing'] = df['Recognized'].apply(find_missing_words)\n",
        "\n",
        "# Apply the function to find added words for each row\n",
        "df['Added'] = df['Recognized'].apply(find_added_words)\n",
        "\n",
        "# Display the updated dataframe\n",
        "# df\n",
        "# Calculate and print the lowest WER\n",
        "lowest_wer = df['WER'].min()\n",
        "print(f\"The lowest WER in the dataset is: {lowest_wer}\")"
      ],
      "metadata": {
        "cellView": "form",
        "id": "94vCy2g_Ae18"
      },
      "execution_count": null,
      "outputs": []
    },
    {
      "cell_type": "markdown",
      "source": [
        "# [4] Say the result"
      ],
      "metadata": {
        "id": "laCvpZmTOoU0"
      }
    },
    {
      "cell_type": "code",
      "source": [
        "#@markdown Say the result (for groups)\n",
        "\n",
        "import pandas as pd\n",
        "from gtts import gTTS\n",
        "import IPython.display as ipd\n",
        "\n",
        "# Assuming df is your DataFrame with columns 'Group' and 'WER'\n",
        "\n",
        "# Group the data by 'Group' and calculate the mean WER for each group\n",
        "grouped_data = df.groupby('Group')['WER'].mean()\n",
        "\n",
        "# Find the minimum WER value\n",
        "min_wer = grouped_data.min()\n",
        "\n",
        "# Find all groups that share the minimum WER\n",
        "lowest_wer_groups = grouped_data[grouped_data == min_wer].index.tolist()\n",
        "\n",
        "# Extract the numbers from the group names and format them\n",
        "group_numbers = [int(''.join(filter(str.isdigit, group))) for group in lowest_wer_groups]\n",
        "group_numbers = ', '.join(map(str, group_numbers[:-1])) + ' and ' + str(group_numbers[-1]) if len(group_numbers) > 1 else str(group_numbers[0])\n",
        "\n",
        "# Create the message\n",
        "message = f\"Group number {group_numbers}? You did a great job for this activity!\"\n",
        "\n",
        "# Convert the message to speech\n",
        "tts = gTTS(message)\n",
        "tts.save(\"message.mp3\")\n",
        "\n",
        "# Play the message\n",
        "ipd.Audio(\"message.mp3\")\n"
      ],
      "metadata": {
        "cellView": "form",
        "id": "VthUYQDqGila"
      },
      "execution_count": null,
      "outputs": []
    },
    {
      "cell_type": "code",
      "source": [
        "#@markdown 🐾 Say the result (for individuals)\n",
        "import pandas as pd\n",
        "from gtts import gTTS\n",
        "import IPython.display as ipd\n",
        "\n",
        "# Assuming df is your DataFrame with columns 'Names' and 'WER'\n",
        "\n",
        "# Group the data by 'Names' and calculate the mean WER for each name\n",
        "grouped_data = df.groupby('Names')['WER'].mean()\n",
        "\n",
        "# Find the minimum WER value\n",
        "min_wer = grouped_data.min()\n",
        "\n",
        "# Find all names that share the minimum WER\n",
        "lowest_wer_names = grouped_data[grouped_data == min_wer].index.tolist()\n",
        "\n",
        "# Format the names for the message\n",
        "names_formatted = ', '.join(lowest_wer_names[:-1]) + ' and ' + lowest_wer_names[-1] if len(lowest_wer_names) > 1 else lowest_wer_names[0]\n",
        "\n",
        "# Create the message\n",
        "message = f\"Okay! {names_formatted}? You did a great job for this activity!\"\n",
        "\n",
        "# Convert the message to speech\n",
        "tts = gTTS(message)\n",
        "tts.save(\"message.mp3\")\n",
        "\n",
        "# Play the message\n",
        "ipd.Audio(\"message.mp3\")\n"
      ],
      "metadata": {
        "cellView": "form",
        "id": "t9hteG1LHLXE"
      },
      "execution_count": null,
      "outputs": []
    },
    {
      "cell_type": "markdown",
      "source": [
        "# [5] Plotting the result"
      ],
      "metadata": {
        "id": "n0Fm4DmNOxJ9"
      }
    },
    {
      "cell_type": "code",
      "source": [
        "#@markdown Barplot (in order)\n",
        "import matplotlib.pyplot as plt\n",
        "import pandas as pd\n",
        "\n",
        "# Assuming df is your DataFrame with columns 'Group' and 'WER'\n",
        "\n",
        "# Group the data by 'Group' and calculate the mean WER for each group\n",
        "grouped_data = df.groupby('Group')['WER'].mean()\n",
        "\n",
        "# Sort the grouped data by WER values in ascending order\n",
        "grouped_data_sorted = grouped_data.sort_values()\n",
        "\n",
        "# Create the bar plot\n",
        "plt.figure(figsize=(10, 6))\n",
        "grouped_data_sorted.plot(kind='bar', color='skyblue')\n",
        "\n",
        "# Set the y-axis limit\n",
        "plt.ylim(0, 1)\n",
        "\n",
        "# Adding titles and labels\n",
        "plt.title('Word Error Rate by Group (Low to High)')\n",
        "plt.xlabel('Group')\n",
        "plt.ylabel('WER')\n",
        "\n",
        "# Show the plot\n",
        "plt.show()\n"
      ],
      "metadata": {
        "cellView": "form",
        "id": "Eav_8mnHFxut"
      },
      "execution_count": null,
      "outputs": []
    },
    {
      "cell_type": "code",
      "source": [
        "#@markdown Barplot all\n",
        "import matplotlib.pyplot as plt\n",
        "import pandas as pd\n",
        "\n",
        "# Assuming df is your DataFrame with columns 'Group' and 'WER'\n",
        "\n",
        "# Group the data by 'Group' and calculate the mean WER for each group\n",
        "grouped_data = df.groupby('Group')['WER'].mean()\n",
        "\n",
        "# Sort the grouped data by group names to maintain the original order (like G1, G2, ...)\n",
        "grouped_data = grouped_data.sort_index()\n",
        "\n",
        "# Create the bar plot\n",
        "plt.figure(figsize=(10, 6))\n",
        "grouped_data.plot(kind='bar', color='skyblue')\n",
        "\n",
        "# Set the y-axis limit\n",
        "plt.ylim(0, 1)\n",
        "\n",
        "# Adding titles and labels\n",
        "plt.title('Word Error Rate by Group')\n",
        "plt.xlabel('Group')\n",
        "plt.ylabel('WER')\n",
        "\n",
        "# Show the plot\n",
        "plt.show()\n"
      ],
      "metadata": {
        "cellView": "form",
        "id": "IyMDexcCFdDU"
      },
      "execution_count": null,
      "outputs": []
    },
    {
      "cell_type": "markdown",
      "source": [
        "# plot for individuals"
      ],
      "metadata": {
        "id": "WGayelR_InVA"
      }
    },
    {
      "cell_type": "code",
      "source": [
        "#@markdown Barplot (in order)\n",
        "import matplotlib.pyplot as plt\n",
        "import pandas as pd\n",
        "\n",
        "# Assuming df is your DataFrame with columns 'Group' and 'WER'\n",
        "\n",
        "# Group the data by 'Group' and calculate the mean WER for each group\n",
        "grouped_data = df.groupby('Names')['WER'].mean()\n",
        "\n",
        "# Sort the grouped data by WER values in ascending order\n",
        "grouped_data_sorted = grouped_data.sort_values()\n",
        "\n",
        "# Create the bar plot\n",
        "plt.figure(figsize=(10, 6))\n",
        "grouped_data_sorted.plot(kind='bar', color='skyblue')\n",
        "\n",
        "# Set the y-axis limit\n",
        "plt.ylim(0, 1)\n",
        "\n",
        "# Adding titles and labels\n",
        "plt.title('Word Error Rate by Members (Low to High)')\n",
        "plt.xlabel('Names')\n",
        "plt.ylabel('WER')\n",
        "\n",
        "# Show the plot\n",
        "plt.show()\n"
      ],
      "metadata": {
        "id": "chc7iNPbImar",
        "cellView": "form"
      },
      "execution_count": null,
      "outputs": []
    },
    {
      "cell_type": "markdown",
      "source": [
        "# [6] The result table"
      ],
      "metadata": {
        "id": "3ckG1JvrO1pW"
      }
    },
    {
      "cell_type": "code",
      "source": [
        "df"
      ],
      "metadata": {
        "id": "MlnaTLP0MjRs"
      },
      "execution_count": null,
      "outputs": []
    }
  ]
}