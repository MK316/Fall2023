{
  "nbformat": 4,
  "nbformat_minor": 0,
  "metadata": {
    "colab": {
      "private_outputs": true,
      "provenance": [],
      "authorship_tag": "ABX9TyMkTgI9en02k4uZXYOoqJ8+",
      "include_colab_link": true
    },
    "kernelspec": {
      "name": "python3",
      "display_name": "Python 3"
    },
    "language_info": {
      "name": "python"
    }
  },
  "cells": [
    {
      "cell_type": "markdown",
      "metadata": {
        "id": "view-in-github",
        "colab_type": "text"
      },
      "source": [
        "<a href=\"https://colab.research.google.com/github/MK316/Fall2023/blob/main/Ch6_Syllables.ipynb\" target=\"_parent\"><img src=\"https://colab.research.google.com/assets/colab-badge.svg\" alt=\"Open In Colab\"/></a>"
      ]
    },
    {
      "cell_type": "markdown",
      "source": [
        "# Ch6. Syllables\n",
        "\n",
        "+ English syllables\n",
        "+ Phonotactis"
      ],
      "metadata": {
        "id": "pxcWQVC0mpES"
      }
    },
    {
      "cell_type": "code",
      "execution_count": null,
      "metadata": {
        "id": "TDlz4YH-lv3Z"
      },
      "outputs": [],
      "source": [
        "!pip install gtts"
      ]
    },
    {
      "cell_type": "code",
      "source": [
        "# Import necessary libraries\n",
        "\n",
        "from google.colab import output\n",
        "from gtts import gTTS\n",
        "from IPython.display import Audio\n",
        "import os\n",
        "\n",
        "\n",
        "language = \"en\" #@param = [\"en\", \"ko\"]\n",
        "syllable_type = \"1_CCCVCCCC\" #@param = [\"1_CCCVCCCC\"]\n",
        "sn = syllable_type.split(\"_\")[0]\n",
        "sn = int(sn)\n",
        "\n",
        "# Your text\n",
        "\n",
        "mylist = [\"strengths, Twelfths, Sculpts\"]\n",
        "mytext = mylist[sn-1]\n",
        "\n",
        "# Function to convert text to speech\n",
        "def text_to_speech(text, lang='en'):\n",
        "    tts = gTTS(text=text, lang=lang)\n",
        "    tts.save(\"output.mp3\")\n",
        "    return \"output.mp3\"\n",
        "\n",
        "# Select language: 'en' for English or 'ko' for Korean\n",
        "language = 'en'  # Change to 'ko' for Korean\n",
        "\n",
        "# Generate speech\n",
        "audio_file = text_to_speech(mytext, language)\n",
        "\n",
        "# Display audio\n",
        "Audio(audio_file, autoplay=True)\n"
      ],
      "metadata": {
        "id": "_9hAKM5BmoTZ"
      },
      "execution_count": null,
      "outputs": []
    },
    {
      "cell_type": "code",
      "source": [
        "# Import necessary libraries\n",
        "from google.colab import output\n",
        "from gtts import gTTS\n",
        "from IPython.display import Audio\n",
        "import os\n",
        "\n",
        "# Select language: 'en' for English or 'ko' for Korean\n",
        "language = \"en\" #@param = [\"en\", \"ko\"]\n",
        "syllable_type = \"2_SSP\" #@param = [\"1_CCCVCCCC\", \"2_SSP\", \"3_MOP\", \"ambisyllabicity\"]\n",
        "\n",
        "# Extracting the serial number\n",
        "sn = int(syllable_type.split(\"_\")[0])\n",
        "\n",
        "# Your list of phrases\n",
        "mylist = [\"strengths, twelfths, sculpts\",\"bliss, Strength, Glimpse, Thwart, Plank, clasp, sweet, twist\",\"medicine, positive, around, finish\",\n",
        "          \"\"]\n",
        "mytext = mylist[sn - 1]\n",
        "\n",
        "# Function to convert text to speech for each word\n",
        "def text_to_speech(text, lang='en'):\n",
        "    words = text.split(\", \")\n",
        "    audio_files = []\n",
        "    for i, word in enumerate(words):\n",
        "        tts = gTTS(text=word, lang=lang)\n",
        "        filename = f\"output_{i}.mp3\"\n",
        "        tts.save(filename)\n",
        "        audio_files.append(filename)\n",
        "    return audio_files\n",
        "\n",
        "# Generate speech for each word\n",
        "audio_files = text_to_speech(mytext, language)\n",
        "\n",
        "# Display audio for each word\n",
        "for i, file in enumerate(audio_files):\n",
        "    print(mytext.split(\", \")[i])  # Print the word\n",
        "    display(Audio(file, autoplay=False))\n",
        "\n"
      ],
      "metadata": {
        "cellView": "form",
        "id": "sp-ZRPLbp-3o"
      },
      "execution_count": null,
      "outputs": []
    }
  ]
}