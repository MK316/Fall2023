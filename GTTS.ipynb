{
  "nbformat": 4,
  "nbformat_minor": 0,
  "metadata": {
    "colab": {
      "provenance": [],
      "authorship_tag": "ABX9TyN6rB1yUMiIyCYeDJMK+1wJ",
      "include_colab_link": true
    },
    "kernelspec": {
      "name": "python3",
      "display_name": "Python 3"
    },
    "language_info": {
      "name": "python"
    }
  },
  "cells": [
    {
      "cell_type": "markdown",
      "metadata": {
        "id": "view-in-github",
        "colab_type": "text"
      },
      "source": [
        "<a href=\"https://colab.research.google.com/github/MK316/Fall2023/blob/main/GTTS.ipynb\" target=\"_parent\"><img src=\"https://colab.research.google.com/assets/colab-badge.svg\" alt=\"Open In Colab\"/></a>"
      ]
    },
    {
      "cell_type": "markdown",
      "source": [
        "# 🔈Text to Speech (TTS)\n",
        "\n",
        "Google {gTTS}"
      ],
      "metadata": {
        "id": "fi6asA-LoC1C"
      }
    },
    {
      "cell_type": "markdown",
      "source": [
        "## Set-up"
      ],
      "metadata": {
        "id": "-i0curK4n9qq"
      }
    },
    {
      "cell_type": "code",
      "execution_count": null,
      "metadata": {
        "id": "A94zDO8-lM_r"
      },
      "outputs": [],
      "source": [
        "from IPython.display import YouTubeVideo, display, Audio, Image\n",
        "import pandas as pd"
      ]
    },
    {
      "cell_type": "markdown",
      "source": [
        "### 🔵 gTTS setting"
      ],
      "metadata": {
        "id": "Bs-SRUqKQBBF"
      }
    },
    {
      "cell_type": "code",
      "execution_count": null,
      "metadata": {
        "cellView": "form",
        "id": "mydkqYLxHh3C"
      },
      "outputs": [],
      "source": [
        "#@markdown 🔄 Making functions: etts('text'), ktts('text')\n",
        "%%capture\n",
        "!pip install gTTS\n",
        "from gtts import gTTS\n",
        "from IPython.display import Audio\n",
        "\n",
        "dialect = \"us\"\n",
        "def etts(text):\n",
        "  text_to_say = text\n",
        "\n",
        "  gtts_object = gTTS(text = text_to_say,\n",
        "                     lang = \"en\", tld = dialect,\n",
        "                    slow = True)\n",
        "\n",
        "  gtts_object.save(\"E-audio.mp3\")\n",
        "  return Audio(\"E-audio.mp3\")\n",
        "\n",
        "def ktts(text):\n",
        "  text_to_say = text\n",
        "\n",
        "  gtts_object = gTTS(text = text_to_say,\n",
        "                     lang = \"ko\",\n",
        "                    slow = False)\n",
        "\n",
        "  gtts_object.save(\"K-audio.mp3\")\n",
        "  return Audio(\"K-audio.mp3\")\n",
        "\n",
        "def ftts(text):\n",
        "  text_to_say = text\n",
        "\n",
        "  gtts_object = gTTS(text = text_to_say,\n",
        "                     lang = \"fr\",\n",
        "                    slow = False)\n",
        "\n",
        "  gtts_object.save(\"F-audio.mp3\")\n",
        "  return Audio(\"F-audio.mp3\")"
      ]
    },
    {
      "cell_type": "markdown",
      "source": [
        "gTTS language options [visit](https://gtts.readthedocs.io/en/latest/module.html)"
      ],
      "metadata": {
        "id": "615sS2l3lwoT"
      }
    },
    {
      "cell_type": "code",
      "source": [
        "language = \"fr\" #@param = [\"en\", \"ko\", \"en.ind\", \"fr\"]\n",
        "\n",
        "txt = input(\"Type text: \")\n",
        "\n",
        "if language == \"en\":\n",
        "  etts(txt)\n",
        "  file = \"E-audio.mp3\"\n",
        "elif language == \"ko\":\n",
        "  ktts(txt)\n",
        "  file= \"K-audio.mp3\"\n",
        "elif language == \"en.ind\":\n",
        "  dialect = \"co.in\"\n",
        "  etts(txt)\n",
        "  file= \"E-audio.mp3\"\n",
        "elif language == \"fr\":\n",
        "  ftts(txt)\n",
        "  file = \"F-audio.mp3\"\n",
        "\n",
        "Audio(file)"
      ],
      "metadata": {
        "cellView": "form",
        "id": "3FnDf_wwKCoT",
        "outputId": "956496cf-8251-4efb-8804-8ac0de10c207",
        "colab": {
          "base_uri": "https://localhost:8080/",
          "height": 92
        }
      },
      "execution_count": null,
      "outputs": [
        {
          "name": "stdout",
          "output_type": "stream",
          "text": [
            "Type text: John went to the hospital.\n"
          ]
        },
        {
          "output_type": "execute_result",
          "data": {
            "text/plain": [
              "<IPython.lib.display.Audio object>"
            ],
            "text/html": [
              "\n",
              "                <audio  controls=\"controls\" >\n",
              "                    <source src=\"data:audio/mpeg;base64,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\" type=\"audio/mpeg\" />\n",
              "                    Your browser does not support the audio element.\n",
              "                </audio>\n",
              "              "
            ]
          },
          "metadata": {},
          "execution_count": 6
        }
      ]
    }
  ]
}