{
  "nbformat": 4,
  "nbformat_minor": 0,
  "metadata": {
    "colab": {
      "private_outputs": true,
      "provenance": [],
      "authorship_tag": "ABX9TyNk5QDLIOTO8ieuYuTmELal",
      "include_colab_link": true
    },
    "kernelspec": {
      "name": "python3",
      "display_name": "Python 3"
    },
    "language_info": {
      "name": "python"
    }
  },
  "cells": [
    {
      "cell_type": "markdown",
      "metadata": {
        "id": "view-in-github",
        "colab_type": "text"
      },
      "source": [
        "<a href=\"https://colab.research.google.com/github/MK316/Fall2023/blob/main/TTS_APP.ipynb\" target=\"_parent\"><img src=\"https://colab.research.google.com/assets/colab-badge.svg\" alt=\"Open In Colab\"/></a>"
      ]
    },
    {
      "cell_type": "code",
      "execution_count": null,
      "metadata": {
        "id": "vGDiZJWEikIH"
      },
      "outputs": [],
      "source": [
        "%%capture\n",
        "!pip install gtts gradio qrcode"
      ]
    },
    {
      "cell_type": "markdown",
      "source": [
        "# [1] TTS and Gradio link"
      ],
      "metadata": {
        "id": "W_995zZFjSC5"
      }
    },
    {
      "cell_type": "code",
      "source": [
        "#@markdown TTS & Gradio link\n",
        "import gradio as gr\n",
        "from gtts import gTTS\n",
        "import os\n",
        "\n",
        "def generate_speech(text, language):\n",
        "    tts = gTTS(text=text, lang=language)\n",
        "    tts.save(\"output.mp3\")\n",
        "    return \"output.mp3\"\n",
        "\n",
        "language_options = {\n",
        "    \"American English\": 'en',\n",
        "    \"Korean\": 'ko'\n",
        "    # Add more languages as needed\n",
        "}\n",
        "\n",
        "iface = gr.Interface(\n",
        "    fn=generate_speech,\n",
        "    inputs=[\n",
        "        gr.Textbox(lines=2, placeholder=\"Enter text here...\"),\n",
        "        gr.Radio(choices=list(language_options.keys()), label=\"Language\")\n",
        "    ],\n",
        "    outputs=\"audio\",\n",
        "    title=\"Text-to-Speech Converter\",\n",
        "    description=\"Enter text and choose a language to convert text to speech.\"\n",
        ")\n",
        "\n",
        "def process_text_and_language(text, language):\n",
        "    language_code = language_options[language]\n",
        "    return generate_speech(text, language_code)\n",
        "\n",
        "iface = gr.Interface(\n",
        "    fn=process_text_and_language,\n",
        "    inputs=[\n",
        "        gr.Textbox(lines=2, placeholder=\"Enter text here...\"),\n",
        "        gr.Radio(choices=list(language_options.keys()), label=\"Language\")\n",
        "    ],\n",
        "    outputs=\"audio\",\n",
        "    title=\"Text-to-Speech Converter\",\n",
        "    description=\"Enter text and choose a language to convert text to speech.\"\n",
        ")\n",
        "\n",
        "iface.launch()\n"
      ],
      "metadata": {
        "cellView": "form",
        "id": "dpsEFsFClJqu"
      },
      "execution_count": null,
      "outputs": []
    },
    {
      "cell_type": "code",
      "source": [
        "#@markdown QR\n",
        "import qrcode\n",
        "from PIL import Image\n",
        "\n",
        "# Assuming 'iface' is the Gradio interface object from the previous code\n",
        "url = iface.launch(share=True)\n",
        "\n",
        "# Generate QR Code\n",
        "qr = qrcode.QRCode(\n",
        "    version=1,\n",
        "    error_correction=qrcode.constants.ERROR_CORRECT_L,\n",
        "    box_size=10,\n",
        "    border=4,\n",
        ")\n",
        "qr.add_data(url)\n",
        "qr.make(fit=True)\n",
        "\n",
        "img = qr.make_image(fill_color=\"black\", back_color=\"white\")\n",
        "img.show()\n"
      ],
      "metadata": {
        "cellView": "form",
        "id": "fX1MqZrSja6o"
      },
      "execution_count": null,
      "outputs": []
    }
  ]
}