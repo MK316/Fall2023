{
  "nbformat": 4,
  "nbformat_minor": 0,
  "metadata": {
    "colab": {
      "private_outputs": true,
      "provenance": [],
      "authorship_tag": "ABX9TyMhHhrNlYgr6KQA8ylNQvv2",
      "include_colab_link": true
    },
    "kernelspec": {
      "name": "python3",
      "display_name": "Python 3"
    },
    "language_info": {
      "name": "python"
    }
  },
  "cells": [
    {
      "cell_type": "markdown",
      "metadata": {
        "id": "view-in-github",
        "colab_type": "text"
      },
      "source": [
        "<a href=\"https://colab.research.google.com/github/MK316/Fall2023/blob/main/Readingpassage.ipynb\" target=\"_parent\"><img src=\"https://colab.research.google.com/assets/colab-badge.svg\" alt=\"Open In Colab\"/></a>"
      ]
    },
    {
      "cell_type": "markdown",
      "source": [
        "# 💦 Transcription reading practice"
      ],
      "metadata": {
        "id": "QX7R_tJ49MVk"
      }
    },
    {
      "cell_type": "code",
      "source": [
        "!pip install gTTS"
      ],
      "metadata": {
        "id": "dukkZEcs9Ki_"
      },
      "execution_count": null,
      "outputs": []
    },
    {
      "cell_type": "code",
      "source": [],
      "metadata": {
        "id": "1XSCsPgn-kOU"
      },
      "execution_count": null,
      "outputs": []
    },
    {
      "cell_type": "markdown",
      "source": [
        "[text](https://raw.githubusercontent.com/MK316/Fall2023/main/reading.txt)"
      ],
      "metadata": {
        "id": "QV4j-VVG-k4K"
      }
    },
    {
      "cell_type": "code",
      "execution_count": null,
      "metadata": {
        "cellView": "form",
        "id": "MZwejLO-8_RU"
      },
      "outputs": [],
      "source": [
        "#@markdown gTTS\n",
        "from gtts import gTTS\n",
        "import os\n",
        "\n",
        "def text_to_speech(text, language='en'):\n",
        "    # Pass the text and language to the engine,\n",
        "    # here 'en' is the language code for English\n",
        "    speech = gTTS(text=text, lang=language, slow=False)\n",
        "\n",
        "    # Save the speech to an MP3 file\n",
        "    speech.save(\"output.mp3\")\n",
        "    print(\"Speech has been saved as output.mp3.\")\n",
        "\n",
        "# User input\n",
        "user_text = input(\"Enter the text you want to convert to speech: \")\n",
        "\n",
        "# Convert the user input to speech\n",
        "text_to_speech(user_text)\n"
      ]
    },
    {
      "cell_type": "code",
      "source": [
        "from IPython.display import Audio\n",
        "\n",
        "# Assume `mp3_data` is a bytes object containing MP3 data\n",
        "mp3_data = open('/content/output.mp3', 'rb').read()\n",
        "\n",
        "# Play the audio file\n",
        "Audio(mp3_data)\n"
      ],
      "metadata": {
        "id": "I7xyK7Q398ZY"
      },
      "execution_count": null,
      "outputs": []
    },
    {
      "cell_type": "markdown",
      "source": [
        "Gradio"
      ],
      "metadata": {
        "id": "TsSJkrPx9mex"
      }
    },
    {
      "cell_type": "code",
      "source": [
        "!pip install gradio gtts\n"
      ],
      "metadata": {
        "id": "p8aRmz8H9nf4"
      },
      "execution_count": null,
      "outputs": []
    }
  ]
}