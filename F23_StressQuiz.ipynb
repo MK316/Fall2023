{
  "nbformat": 4,
  "nbformat_minor": 0,
  "metadata": {
    "colab": {
      "private_outputs": true,
      "provenance": [],
      "authorship_tag": "ABX9TyPAbCo39urQv95Te3lf4fBs",
      "include_colab_link": true
    },
    "kernelspec": {
      "name": "python3",
      "display_name": "Python 3"
    },
    "language_info": {
      "name": "python"
    }
  },
  "cells": [
    {
      "cell_type": "markdown",
      "metadata": {
        "id": "view-in-github",
        "colab_type": "text"
      },
      "source": [
        "<a href=\"https://colab.research.google.com/github/MK316/Fall2023/blob/main/F23_StressQuiz.ipynb\" target=\"_parent\"><img src=\"https://colab.research.google.com/assets/colab-badge.svg\" alt=\"Open In Colab\"/></a>"
      ]
    },
    {
      "cell_type": "markdown",
      "source": [
        "# Stress placement practice (Fall F23)"
      ],
      "metadata": {
        "id": "aqMhtmzpLzOf"
      }
    },
    {
      "cell_type": "code",
      "execution_count": null,
      "metadata": {
        "id": "C49Rj6TfIbuc",
        "cellView": "form"
      },
      "outputs": [],
      "source": [
        "#@markdown [1] Install packages (getting ready)\n",
        "%%capture\n",
        "!pip install pandas ipywidgets gradio pyqrcode gtts pydub IPython"
      ]
    },
    {
      "cell_type": "markdown",
      "source": [
        "[File link](https://raw.githubusercontent.com/MK316/Fall2023/main/F23Phonology/F23_StressWordList.csv)"
      ],
      "metadata": {
        "id": "NtzIdxqb76nf"
      }
    },
    {
      "cell_type": "code",
      "source": [
        "#@markdown [2] File to read: from my Github (online)\n",
        "csv_url = \"https://raw.githubusercontent.com/MK316/Fall2023/main/F23Phonology/F23_StressWordList.csv\"\n",
        "#csv_url =\"/content/yourfilename.csv\""
      ],
      "metadata": {
        "id": "nvfbkw5RNKcF",
        "cellView": "form"
      },
      "execution_count": null,
      "outputs": []
    },
    {
      "cell_type": "markdown",
      "source": [
        "☺️ If you want your file to gegenerate your audio, follow the steps:\n",
        "\n",
        "1) Prepare your csv file (CSV UTF-8 쉼표로 분리된 파일, 확장자 sample.csv)  \n",
        "2) upload it on colab (left panel: folder shape icon)  \n",
        "3) Remove the second # below and replace your file name   \n",
        "e.g., **#** csv_url = \"/content/**yourfilename**.csv\"  \n",
        "=> csv_url = \"/content/stress160.csv  \n",
        "4) run the code"
      ],
      "metadata": {
        "id": "RV5LA8V38bBi"
      }
    },
    {
      "cell_type": "code",
      "source": [
        "# If you want to use your own csv file (ID, Words, POS columns should be in your csv file)\n",
        "\n",
        "# csv_url = \"/content/yourfilename.csv\""
      ],
      "metadata": {
        "id": "y-nutj3K8Eh3"
      },
      "execution_count": null,
      "outputs": []
    },
    {
      "cell_type": "code",
      "source": [
        "#@markdown Play the quiz! (After running this code, you can download the csv file on the left panel 'my_wordlist.csv')\n",
        "import pandas as pd\n",
        "import random\n",
        "import ipywidgets as widgets\n",
        "from IPython.display import display, clear_output\n",
        "\n",
        "# Load CSV from GitHub\n",
        "# csv_url = 'YOUR_CSV_FILE_URL_ON_GITHUB'  # Replace with your GitHub CSV URL\n",
        "df = pd.read_csv(csv_url)\n",
        "df = df.dropna(how='all')\n",
        "\n",
        "# Save the DataFrame to a CSV file\n",
        "df.to_csv('/content/my_wordlist.csv', index=False, encoding='utf-8-sig')\n",
        "\n",
        "# Quiz variables\n",
        "score = 0\n",
        "total_questions = 0\n",
        "\n",
        "# Function to display a new question\n",
        "def display_question():\n",
        "    global total_questions\n",
        "    random_row = df.sample().iloc[0]\n",
        "    word = random_row['Words']\n",
        "    pos = random_row['POS']  # Assuming 'POS' is the column name\n",
        "    position = random_row['Position']\n",
        "\n",
        "    # Update question text with POS information\n",
        "    question_label.value = f'Word: {word} ({pos})'\n",
        "\n",
        "    # Store the correct answer in a hidden widget\n",
        "    correct_answer.value = position\n",
        "\n",
        "    total_questions += 1\n",
        "    result_label.value = ''  # Clear previous result\n",
        "\n",
        "# Function to handle answer button click\n",
        "def on_button_clicked(b):\n",
        "    global score\n",
        "    user_answer = b.description\n",
        "    if user_answer == correct_answer.value:\n",
        "        score += 1\n",
        "        result_label.value = 'Good job!'\n",
        "    else:\n",
        "        result_label.value = f'The correct answer was: {correct_answer.value}'\n",
        "\n",
        "# Create widgets\n",
        "question_label = widgets.Label()\n",
        "result_label = widgets.Label()\n",
        "correct_answer = widgets.Label()  # This will be hidden\n",
        "answer_buttons = [widgets.Button(description=p) for p in ['antepenultimate', 'penultimate', 'ultimate' ]]\n",
        "continue_button = widgets.Button(description='Continue', button_style='success')  # Green color\n",
        "finish_button = widgets.Button(description='Finish', button_style='danger')  # Red color\n",
        "\n",
        "# Bind button events\n",
        "for button in answer_buttons:\n",
        "    button.on_click(on_button_clicked)\n",
        "\n",
        "def continue_button_clicked(b):\n",
        "    display_question()\n",
        "\n",
        "continue_button.on_click(continue_button_clicked)\n",
        "\n",
        "def finish_button_clicked(b):\n",
        "    global score, total_questions\n",
        "    clear_output()\n",
        "    print(f'Your final Score is: {score}/{total_questions}')\n",
        "    score = 0\n",
        "    total_questions = 0\n",
        "\n",
        "finish_button.on_click(finish_button_clicked)\n",
        "\n",
        "# Layout for answer and control buttons\n",
        "answer_buttons_box = widgets.HBox(answer_buttons)\n",
        "control_buttons_box = widgets.VBox([continue_button, finish_button])\n",
        "main_box = widgets.HBox([answer_buttons_box, control_buttons_box])\n",
        "\n",
        "# Display widgets\n",
        "display(question_label, result_label, main_box)\n",
        "\n",
        "# Initial call to display the first question\n",
        "display_question()\n"
      ],
      "metadata": {
        "cellView": "form",
        "id": "caXVtZKEPV_c"
      },
      "execution_count": null,
      "outputs": []
    },
    {
      "cell_type": "markdown",
      "source": [
        "# Audio file to save"
      ],
      "metadata": {
        "id": "M9_kJ0Oh4e0l"
      }
    },
    {
      "cell_type": "code",
      "source": [
        "#@markdown 🌀 Generate audio file from x to y (ID numbers)\n",
        "import pandas as pd\n",
        "from gtts import gTTS\n",
        "from pydub import AudioSegment\n",
        "from IPython.display import Audio\n",
        "import io\n",
        "\n",
        "url = csv_url\n",
        "\n",
        "def generate_speech_with_pause(github_url, from_id, to_id):\n",
        "    df = pd.read_csv(github_url)\n",
        "    filtered_df = df[(df['ID'] >= from_id) & (df['ID'] <= to_id)]\n",
        "\n",
        "    pause = AudioSegment.silent(duration=2000)  # 2000 milliseconds = 2 seconds\n",
        "    combined = AudioSegment.empty()\n",
        "\n",
        "    for word in filtered_df['Words']:\n",
        "        # Use an in-memory buffer\n",
        "        with io.BytesIO() as f:\n",
        "            tts = gTTS(word)\n",
        "            tts.write_to_fp(f)\n",
        "            f.seek(0)\n",
        "            word_audio = AudioSegment.from_file(f, format=\"mp3\")\n",
        "            combined += word_audio + pause\n",
        "\n",
        "     # Export to an in-memory buffer\n",
        "    buffer = io.BytesIO()\n",
        "    combined.export(buffer, format=\"mp3\")\n",
        "    buffer.seek(0)\n",
        "\n",
        "    return Audio(buffer.getvalue())\n",
        "\n",
        "# Example usage\n",
        "github_url = url\n",
        "from_id = int(input('Start ID: '))\n",
        "to_id = int(input('End ID: '))\n",
        "audio = generate_speech_with_pause(github_url, from_id, to_id)\n",
        "audio\n"
      ],
      "metadata": {
        "cellView": "form",
        "id": "AndRQVox5u1G"
      },
      "execution_count": null,
      "outputs": []
    },
    {
      "cell_type": "markdown",
      "source": [
        "# Audio files with POS information:\n",
        "\n",
        "e.g., 'facilitate' when it's verb, 'opera' when it's noun, etc."
      ],
      "metadata": {
        "id": "301XupLf7Rmm"
      }
    },
    {
      "cell_type": "code",
      "source": [
        "#@markdown 🌀 Audio with POS info\n",
        "import pandas as pd\n",
        "from gtts import gTTS\n",
        "from pydub import AudioSegment\n",
        "from IPython.display import Audio\n",
        "import io\n",
        "\n",
        "url = csv_url  # Replace with your actual CSV URL\n",
        "\n",
        "def generate_speech_with_pause(github_url, from_id, to_id):\n",
        "    df = pd.read_csv(github_url)\n",
        "    filtered_df = df[(df['ID'] >= from_id) & (df['ID'] <= to_id)]\n",
        "\n",
        "    pause = AudioSegment.silent(duration=1000)  # 1000 milliseconds = 1 second\n",
        "    combined = AudioSegment.empty()\n",
        "\n",
        "    for index, row in filtered_df.iterrows():\n",
        "        text_to_speak = f\"{row['Words']} when it's {row['POS']}\"\n",
        "        with io.BytesIO() as f:\n",
        "            tts = gTTS(text_to_speak)\n",
        "            tts.write_to_fp(f)\n",
        "            f.seek(0)\n",
        "            word_audio = AudioSegment.from_file(f, format=\"mp3\")\n",
        "            combined += word_audio + pause\n",
        "\n",
        "    # Export to an in-memory buffer\n",
        "    buffer = io.BytesIO()\n",
        "    combined.export(buffer, format=\"mp3\")\n",
        "    buffer.seek(0)\n",
        "\n",
        "    return Audio(buffer.getvalue())\n",
        "\n",
        "# Example usage\n",
        "github_url = url\n",
        "from_id = int(input('Start ID: '))\n",
        "to_id = int(input('End ID: '))\n",
        "audio = generate_speech_with_pause(github_url, from_id, to_id)\n",
        "audio\n"
      ],
      "metadata": {
        "cellView": "form",
        "id": "x8kFfCau7DSN"
      },
      "execution_count": null,
      "outputs": []
    }
  ]
}