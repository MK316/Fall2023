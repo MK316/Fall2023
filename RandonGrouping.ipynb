{
  "nbformat": 4,
  "nbformat_minor": 0,
  "metadata": {
    "colab": {
      "private_outputs": true,
      "provenance": [],
      "authorship_tag": "ABX9TyNbkg+kxuf2lvhrEq+KahGM",
      "include_colab_link": true
    },
    "kernelspec": {
      "name": "python3",
      "display_name": "Python 3"
    },
    "language_info": {
      "name": "python"
    }
  },
  "cells": [
    {
      "cell_type": "markdown",
      "metadata": {
        "id": "view-in-github",
        "colab_type": "text"
      },
      "source": [
        "<a href=\"https://colab.research.google.com/github/MK316/Fall2023/blob/main/RandonGrouping.ipynb\" target=\"_parent\"><img src=\"https://colab.research.google.com/assets/colab-badge.svg\" alt=\"Open In Colab\"/></a>"
      ]
    },
    {
      "cell_type": "markdown",
      "source": [
        "# Random grouping for EngEdu (F23)"
      ],
      "metadata": {
        "id": "5xpyCUszsht0"
      }
    },
    {
      "cell_type": "code",
      "execution_count": null,
      "metadata": {
        "cellView": "form",
        "id": "dEuEjKTnqRs9"
      },
      "outputs": [],
      "source": [
        "#@markdown Random grouping (A, B, C)\n",
        "import random\n",
        "\n",
        "def group_students(students):\n",
        "    # Shuffle the list of students to ensure randomness\n",
        "    random.shuffle(students)\n",
        "\n",
        "    # Split the students into groups of 2, 2, and 3\n",
        "    group_A = students[:2]\n",
        "    group_B = students[2:4]\n",
        "    group_C = students[4:]\n",
        "\n",
        "    return group_A, group_B, group_C\n",
        "\n",
        "# Example list of students\n",
        "mystudents = [\"김다슬\", \"김석태\", \"서하영\", \"안하영\", \"정희원\", \"최나탈리아\", \"하해경\"]\n",
        "\n",
        "# Group the students\n",
        "group_A, group_B, group_C = group_students(mystudents)\n",
        "\n",
        "# Print the groups\n",
        "print(\"Group A:\", group_A)\n",
        "print(\"Group B:\", group_B)\n",
        "print(\"Group C:\", group_C)\n"
      ]
    },
    {
      "cell_type": "code",
      "source": [
        "#@markdown One fixed\n",
        "import random\n",
        "\n",
        "def group_students(students, fixed_student):\n",
        "    # Remove the fixed student from the list\n",
        "    students = [student for student in students if student != fixed_student]\n",
        "\n",
        "    # Shuffle the remaining students\n",
        "    random.shuffle(students)\n",
        "\n",
        "    # Split the students into groups of 2, 2, and then add the fixed student to group C\n",
        "    group_A = students[:2]\n",
        "    group_B = students[2:4]\n",
        "    group_C = students[4:] + [fixed_student]\n",
        "\n",
        "    return group_A, group_B, group_C\n",
        "\n",
        "# Example list of students\n",
        "mystudents = [\"김다슬\", \"서하영\", \"안하영\", \"정희원\", \"최나탈리아\", \"하해경\"]\n",
        "\n",
        "\n",
        "# Specify the student to be fixed in group C\n",
        "fixed_student = \"김석태\"\n",
        "\n",
        "# Group the students\n",
        "group_A, group_B, group_C = group_students(mystudents, fixed_student)\n",
        "\n",
        "# Print the groups\n",
        "print(\"Group A:\", group_A)\n",
        "print(\"Group B:\", group_B)\n",
        "print(\"Group C:\", group_C)\n"
      ],
      "metadata": {
        "cellView": "form",
        "id": "JheFgD8cr3mN"
      },
      "execution_count": null,
      "outputs": []
    }
  ]
}