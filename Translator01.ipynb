{
  "nbformat": 4,
  "nbformat_minor": 0,
  "metadata": {
    "colab": {
      "private_outputs": true,
      "provenance": [],
      "authorship_tag": "ABX9TyOoD1ZdDEop6I2z4CkQvloD",
      "include_colab_link": true
    },
    "kernelspec": {
      "name": "python3",
      "display_name": "Python 3"
    },
    "language_info": {
      "name": "python"
    }
  },
  "cells": [
    {
      "cell_type": "markdown",
      "metadata": {
        "id": "view-in-github",
        "colab_type": "text"
      },
      "source": [
        "<a href=\"https://colab.research.google.com/github/MK316/Fall2023/blob/main/Translator01.ipynb\" target=\"_parent\"><img src=\"https://colab.research.google.com/assets/colab-badge.svg\" alt=\"Open In Colab\"/></a>"
      ]
    },
    {
      "cell_type": "code",
      "execution_count": null,
      "metadata": {
        "id": "N6YzUUky7zyr"
      },
      "outputs": [],
      "source": [
        "!pip install googletrans==4.0.0-rc1\n",
        "!pip install gtts"
      ]
    },
    {
      "cell_type": "code",
      "source": [
        "%%capture\n",
        "!pip install -q gradio"
      ],
      "metadata": {
        "id": "5b79sDaE8PWF"
      },
      "execution_count": null,
      "outputs": []
    },
    {
      "cell_type": "markdown",
      "source": [
        "Input = Korean (text)\n",
        "Output = English (audio)"
      ],
      "metadata": {
        "id": "FJYX45gt-JUZ"
      }
    },
    {
      "cell_type": "code",
      "source": [
        "from googletrans import Translator\n",
        "from gtts import gTTS\n",
        "import IPython.display as ipd\n",
        "\n",
        "# Create a Translator object\n",
        "translator = Translator()\n",
        "\n",
        "# Function to translate text and synthesize speech\n",
        "def translate_to_speech(text):\n",
        "    # Translate text to English\n",
        "    translated_text = translator.translate(text, dest='en').text\n",
        "    print(\"Translated text:\", translated_text)  # Print translated text for debugging\n",
        "    # Synthesize speech from translated text\n",
        "    tts = gTTS(translated_text, lang='en')\n",
        "    # Save the audio file\n",
        "    tts.save('translated_speech.mp3')\n",
        "    # Play the audio file\n",
        "    return ipd.Audio(filename='translated_speech.mp3')\n",
        "\n",
        "# Test the function directly\n",
        "mytext = input()\n",
        "audio_output = translate_to_speech(mytext)  # Replace with your Korean text\n",
        "ipd.display(audio_output)\n"
      ],
      "metadata": {
        "id": "tvkjdjG894CU"
      },
      "execution_count": null,
      "outputs": []
    }
  ]
}