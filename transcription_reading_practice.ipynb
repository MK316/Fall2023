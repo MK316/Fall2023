{
  "nbformat": 4,
  "nbformat_minor": 0,
  "metadata": {
    "colab": {
      "private_outputs": true,
      "provenance": [],
      "authorship_tag": "ABX9TyMMFwEft8jcpHk1Y1KhQBG+",
      "include_colab_link": true
    },
    "kernelspec": {
      "name": "python3",
      "display_name": "Python 3"
    },
    "language_info": {
      "name": "python"
    }
  },
  "cells": [
    {
      "cell_type": "markdown",
      "metadata": {
        "id": "view-in-github",
        "colab_type": "text"
      },
      "source": [
        "<a href=\"https://colab.research.google.com/github/MK316/Fall2023/blob/main/transcription_reading_practice.ipynb\" target=\"_parent\"><img src=\"https://colab.research.google.com/assets/colab-badge.svg\" alt=\"Open In Colab\"/></a>"
      ]
    },
    {
      "cell_type": "markdown",
      "source": [
        "# 💦 Transcription reading practice"
      ],
      "metadata": {
        "id": "QX7R_tJ49MVk"
      }
    },
    {
      "cell_type": "code",
      "source": [
        "!pip install gTTS"
      ],
      "metadata": {
        "id": "dukkZEcs9Ki_"
      },
      "execution_count": null,
      "outputs": []
    },
    {
      "cell_type": "code",
      "source": [],
      "metadata": {
        "id": "1XSCsPgn-kOU"
      },
      "execution_count": null,
      "outputs": []
    },
    {
      "cell_type": "markdown",
      "source": [
        "[text](https://raw.githubusercontent.com/MK316/Fall2023/main/reading.txt)"
      ],
      "metadata": {
        "id": "QV4j-VVG-k4K"
      }
    },
    {
      "cell_type": "code",
      "execution_count": null,
      "metadata": {
        "cellView": "form",
        "id": "MZwejLO-8_RU"
      },
      "outputs": [],
      "source": [
        "#@markdown gTTS\n",
        "from gtts import gTTS\n",
        "import os\n",
        "\n",
        "def text_to_speech(text, language='en'):\n",
        "    # Pass the text and language to the engine,\n",
        "    # here 'en' is the language code for English\n",
        "    speech = gTTS(text=text, lang=language, slow=False)\n",
        "\n",
        "    # Save the speech to an MP3 file\n",
        "    speech.save(\"output.mp3\")\n",
        "    print(\"Speech has been saved as output.mp3.\")\n",
        "\n",
        "# User input\n",
        "user_text = input(\"Enter the text you want to convert to speech: \")\n",
        "\n",
        "# Convert the user input to speech\n",
        "text_to_speech(user_text)\n"
      ]
    },
    {
      "cell_type": "code",
      "source": [
        "from IPython.display import Audio\n",
        "\n",
        "# Assume `mp3_data` is a bytes object containing MP3 data\n",
        "mp3_data = open('/content/output.mp3', 'rb').read()\n",
        "\n",
        "# Play the audio file\n",
        "Audio(mp3_data)\n"
      ],
      "metadata": {
        "id": "I7xyK7Q398ZY"
      },
      "execution_count": null,
      "outputs": []
    },
    {
      "cell_type": "markdown",
      "source": [
        "# Transcription reading II: sentences"
      ],
      "metadata": {
        "id": "TsSJkrPx9mex"
      }
    },
    {
      "cell_type": "code",
      "source": [
        "from gtts import gTTS\n",
        "import os"
      ],
      "metadata": {
        "id": "vLqfgClUQFo9"
      },
      "execution_count": null,
      "outputs": []
    },
    {
      "cell_type": "code",
      "source": [
        "#@markdown gTTS\n",
        "\n",
        "Sentence = \"5\" #@param = [1, 2, 3, 4, 5]\n",
        "sn = int(Sentence)\n",
        "\n",
        "sents = [\"The solar system fascinates me with its vast planets and countless stars twinkling in the night.\",\n",
        "\"Photosynthesis is vital for plants, converting sunlight into energy, and giving us oxygen to breathe every day.\",\n",
        "\"The Pacific Ocean, with its deep blue waters, is the largest ocean and home to diverse marine life.\",\n",
        "\"Shakespeare's plays, written centuries ago, still capture our imaginations with their complex characters and timeless themes.\",\n",
        "\"The basketball game was thrilling, with both teams scoring back and forth until the final.\"]\n",
        "\n",
        "mytext = sents[sn-1]\n",
        "\n",
        "def text_to_speech(text, language='en'):\n",
        "    # Pass the text and language to the engine,\n",
        "    # here 'en' is the language code for English\n",
        "    speech = gTTS(text=text, lang=language, slow=False)\n",
        "\n",
        "    # Save the speech to an MP3 file\n",
        "    speech.save(\"output.mp3\")\n",
        "    print(\"Speech has been saved as output.mp3.\")\n",
        "\n",
        "# Convert the user input to speech\n",
        "text_to_speech(mytext)\n",
        "\n",
        "from IPython.display import Audio\n",
        "\n",
        "# Assume `mp3_data` is a bytes object containing MP3 data\n",
        "mp3_data = open('/content/output.mp3', 'rb').read()\n",
        "\n",
        "# Play the audio file\n",
        "Audio(mp3_data)"
      ],
      "metadata": {
        "cellView": "form",
        "id": "PWhoW4ciQAPT"
      },
      "execution_count": null,
      "outputs": []
    },
    {
      "cell_type": "code",
      "source": [
        "#@markdown Print texts\n",
        "Sentence = \"1\" #@param = [1, 2, 3, 4, 5]\n",
        "sn = int(Sentence)\n",
        "\n",
        "sents = [\"The solar system fascinates me with its vast planets and countless stars twinkling in the night.\",\n",
        "\"Photosynthesis is vital for plants, converting sunlight into energy, and giving us oxygen to breathe every day.\",\n",
        "\"The Pacific Ocean, with its deep blue waters, is the largest ocean and home to diverse marine life.\",\n",
        "\"Shakespeare's plays, written centuries ago, still capture our imaginations with their complex characters and timeless themes.\",\n",
        "\"The basketball game was thrilling, with both teams scoring back and forth until the final.\"]\n",
        "\n",
        "mytext = sents[sn-1]\n",
        "\n",
        "print(mytext)"
      ],
      "metadata": {
        "cellView": "form",
        "id": "GMDCBaHmRYp2"
      },
      "execution_count": null,
      "outputs": []
    }
  ]
}