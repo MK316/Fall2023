{
  "nbformat": 4,
  "nbformat_minor": 0,
  "metadata": {
    "colab": {
      "private_outputs": true,
      "provenance": [],
      "authorship_tag": "ABX9TyN1rBcbjOrgvIJIcY2vIhu7",
      "include_colab_link": true
    },
    "kernelspec": {
      "name": "python3",
      "display_name": "Python 3"
    },
    "language_info": {
      "name": "python"
    }
  },
  "cells": [
    {
      "cell_type": "markdown",
      "metadata": {
        "id": "view-in-github",
        "colab_type": "text"
      },
      "source": [
        "<a href=\"https://colab.research.google.com/github/MK316/Fall2023/blob/main/18Sentences.ipynb\" target=\"_parent\"><img src=\"https://colab.research.google.com/assets/colab-badge.svg\" alt=\"Open In Colab\"/></a>"
      ]
    },
    {
      "cell_type": "markdown",
      "source": [
        "# Generate the 18 sentences using TTS"
      ],
      "metadata": {
        "id": "8NHdEEJKoTX5"
      }
    },
    {
      "cell_type": "markdown",
      "source": [
        "##[1] Install packages"
      ],
      "metadata": {
        "id": "XV1vI1Hgoa2d"
      }
    },
    {
      "cell_type": "code",
      "execution_count": null,
      "metadata": {
        "id": "s_0yhSUPl7oi"
      },
      "outputs": [],
      "source": [
        "%%capture\n",
        "!pip install gtts"
      ]
    },
    {
      "cell_type": "markdown",
      "source": [
        "##[2] The 18 sentences"
      ],
      "metadata": {
        "id": "Rz87QXEnod4P"
      }
    },
    {
      "cell_type": "code",
      "source": [
        "# List of sentences\n",
        "sentences = [\n",
        "    \"Please believe that sweet peas and beans are good to eat. Eat them at least twice a week.\",\n",
        "    \"Tim's sister swims a little bit. It keeps her fit slim and trim.\",\n",
        "    \"Ten times seven is seventy. Seven times eleven is seventy-seven.\",\n",
        "    \"Many animals inhabit Africa. Africa has camels giraffes parrots and bats.\",\n",
        "    \"Doctors say jogging is good for the body. Lots of starch causes heart problems.\",\n",
        "    \"Who flew to the moon? Numerous lunar flights are in the news. We'll soon put a person on Jupiter and Pluto.\",\n",
        "    \"Would you look for my cookbook? It should be full of hints for good cookies and pudding.\",\n",
        "    \"The southern governor is Republican. The public election was fun. She won by one hundred votes.\",\n",
        "    \"The author gave a long talk in the office. The small audience thought it was boring.\",\n",
        "    \"Nurses do worthy work. They certainly deserve a word of praise.\",\n",
        "    \"Labor Day is in September. Workers are honored.\",\n",
        "    \"Maine is a state in the northern United States. It's a great place for a vacation.\",\n",
        "    \"The North Pole is close to the Arctic Ocean. It's known for polar bears snow and severe cold.\",\n",
        "    \"Owls are now found throughout the world. They avoid crowds and make loud sounds.\",\n",
        "    \"Eyesight is vital for a normal life. I prize mine highly.\",\n",
        "    \"The auto industry is a loyal employer in Detroit. People enjoy their choice of cars.\",\n",
        "    \"Africa Asia Australia South America and Europe comprise five of the continents. North America is another continent.\",\n",
        "    \"I have televisions in the bedroom living room and dining room. The programs about detectives and hospitals are my favorites.\"\n",
        "]\n"
      ],
      "metadata": {
        "id": "bzz9ebNHoA3l"
      },
      "execution_count": null,
      "outputs": []
    },
    {
      "cell_type": "markdown",
      "source": [
        "##[3] Generate speech (individually)"
      ],
      "metadata": {
        "id": "Vg2AEkckohvh"
      }
    },
    {
      "cell_type": "code",
      "source": [
        "#@markdown Generate the sentences\n",
        "from gtts import gTTS\n",
        "import ipywidgets as widgets\n",
        "from IPython.display import display, clear_output, Audio\n",
        "\n",
        "# List of sentences\n",
        "sentences = sentences\n",
        "\n",
        "# Function to generate and play speech\n",
        "def generate_speech(sentence_index):\n",
        "    tts = gTTS(sentences[sentence_index])\n",
        "    file_name = f\"/content/Sentence{sentence_index+1:02d}.mp3\"\n",
        "    tts.save(file_name)\n",
        "    return file_name\n",
        "\n",
        "# Dropdown for selecting the sentence\n",
        "sentence_dropdown = widgets.Dropdown(\n",
        "    options=[(f\"Sentence {i+1}\", i) for i in range(len(sentences))],\n",
        "    description='Select Sentence:',\n",
        "    disabled=False,\n",
        ")\n",
        "\n",
        "# Button to generate speech\n",
        "generate_button = widgets.Button(description=\"Generate\")\n",
        "\n",
        "# Output area for the audio player\n",
        "output_area = widgets.Output()\n",
        "\n",
        "# Function to handle button click event\n",
        "def on_generate_button_clicked(b):\n",
        "    sentence_index = sentence_dropdown.value\n",
        "    file_name = generate_speech(sentence_index)\n",
        "    with output_area:\n",
        "        clear_output(wait=True)\n",
        "        display(Audio(file_name))\n",
        "\n",
        "# Link the button click event to the handler function\n",
        "generate_button.on_click(on_generate_button_clicked)\n",
        "\n",
        "# Layout\n",
        "widgets_layout = widgets.HBox([sentence_dropdown, generate_button])\n",
        "display(widgets_layout, output_area)\n"
      ],
      "metadata": {
        "cellView": "form",
        "id": "PHfkK8GJl8p-"
      },
      "execution_count": null,
      "outputs": []
    }
  ]
}