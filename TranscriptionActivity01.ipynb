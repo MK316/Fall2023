{
  "nbformat": 4,
  "nbformat_minor": 0,
  "metadata": {
    "colab": {
      "private_outputs": true,
      "provenance": [],
      "authorship_tag": "ABX9TyPmT7YSxQbCjdejORtIb3tq",
      "include_colab_link": true
    },
    "kernelspec": {
      "name": "python3",
      "display_name": "Python 3"
    },
    "language_info": {
      "name": "python"
    }
  },
  "cells": [
    {
      "cell_type": "markdown",
      "metadata": {
        "id": "view-in-github",
        "colab_type": "text"
      },
      "source": [
        "<a href=\"https://colab.research.google.com/github/MK316/Fall2023/blob/main/TranscriptionActivity01.ipynb\" target=\"_parent\"><img src=\"https://colab.research.google.com/assets/colab-badge.svg\" alt=\"Open In Colab\"/></a>"
      ]
    },
    {
      "cell_type": "markdown",
      "source": [
        "# 🌿 **Transcription practice activity** (asof 11/24)\n",
        "\n",
        "[Shared file](https://docs.google.com/spreadsheets/d/12_hgfEpoYFlBbq-FHyMtpnv_bPuaxL-_c3jiyemffoU/edit?usp=drive_link)"
      ],
      "metadata": {
        "id": "VAU7Mq7V9jd8"
      }
    },
    {
      "cell_type": "markdown",
      "source": [
        "# [1] Install packages"
      ],
      "metadata": {
        "id": "9ESSfgOoLHcO"
      }
    },
    {
      "cell_type": "code",
      "source": [
        "!pip install --upgrade google-auth google-auth-oauthlib google-auth-httplib2"
      ],
      "metadata": {
        "id": "4825fMJ2JDwS"
      },
      "execution_count": null,
      "outputs": []
    },
    {
      "cell_type": "code",
      "source": [
        "%%capture\n",
        "!pip install gtts jiwer matplotlib pandas"
      ],
      "metadata": {
        "id": "d_LLiaeGGfup"
      },
      "execution_count": null,
      "outputs": []
    },
    {
      "cell_type": "markdown",
      "source": [
        "# [2] Google authentification & File to read"
      ],
      "metadata": {
        "id": "u2DyNbOKLPEQ"
      }
    },
    {
      "cell_type": "code",
      "source": [
        "#@markdown 🐳 Google authentification\n",
        "\n",
        "from google.colab import auth\n",
        "auth.authenticate_user()\n",
        "\n",
        "import gspread\n",
        "from google.auth import default\n",
        "\n",
        "# Authenticate and create the gspread client\n",
        "creds, _ = default()\n",
        "gc = gspread.authorize(creds)\n",
        "\n",
        "# Open the Google Sheet and read it into a DataFrame\n",
        "spreadsheet_name = 'transcription1124'  # Replace with your Google Sheet name\n",
        "worksheet = gc.open(spreadsheet_name).sheet1\n",
        "\n",
        "# Get all the values in the Sheet\n",
        "rows = worksheet.get_all_values()\n",
        "\n",
        "# Convert to a DataFrame\n",
        "import pandas as pd\n",
        "df = pd.DataFrame.from_records(rows[1:], columns=rows[0])\n",
        "\n",
        "# Display the first few rows of the DataFrame\n",
        "print(df['Group'].head())\n",
        "\n"
      ],
      "metadata": {
        "cellView": "form",
        "id": "diBlJ_BYIkfm"
      },
      "execution_count": null,
      "outputs": []
    },
    {
      "cell_type": "markdown",
      "source": [
        "[text to compare](https://raw.githubusercontent.com/MK316/Fall2023/main/original.md)"
      ],
      "metadata": {
        "id": "bsoLNml2A32f"
      }
    },
    {
      "cell_type": "markdown",
      "source": [
        "# [3] Calculating WER, finding missing and added words"
      ],
      "metadata": {
        "id": "rGsk367tOic6"
      }
    },
    {
      "cell_type": "markdown",
      "source": [
        "WER is essentially a ratio of the total number of errors (substitutions, insertions, deletions) to the total number of words in the reference text.\n",
        "\n",
        "Here is the basic formula for WER:\n",
        "\n",
        "$$\n",
        "WER = \\frac{\\text{Substitutions} + \\text{Insertions} + \\text{Deletions}}{\\text{Number of Words in Reference}}\n",
        "$$\n",
        "\n",
        "\n"
      ],
      "metadata": {
        "id": "Wxef0x5Tehfh"
      }
    },
    {
      "cell_type": "code",
      "source": [
        "#@markdown 🐳 WER, Missing words, Added words\n",
        "\n",
        "from jiwer import wer\n",
        "import pandas as pd\n",
        "from collections import Counter\n",
        "\n",
        "# Function to calculate WER\n",
        "def calculate_wer(recognized):\n",
        "    return wer(original_text, recognized)\n",
        "\n",
        "# Function to find missing words\n",
        "def find_missing_words(recognized):\n",
        "    original_words = original_text.split()\n",
        "    recognized_words = recognized.split()\n",
        "\n",
        "    original_count = Counter(original_words)\n",
        "    recognized_count = Counter(recognized_words)\n",
        "\n",
        "    missing_words = []\n",
        "    for word in original_count:\n",
        "        if original_count[word] > recognized_count.get(word, 0):\n",
        "            missing_words.append(word)\n",
        "\n",
        "    return ', '.join(missing_words)\n",
        "\n",
        "# Function to find added words\n",
        "def find_added_words(recognized):\n",
        "    original_words = set(original_text.split())\n",
        "    recognized_words = set(recognized.split())\n",
        "\n",
        "    added_words = recognized_words - original_words\n",
        "    return ', '.join(added_words)\n",
        "\n",
        "# Prompt the user to enter the original text\n",
        "original_text = input(\"Please enter the original text: \")\n",
        "\n",
        "# Assuming df is your DataFrame and it has a column named 'Recognized'\n",
        "\n",
        "# Apply the function to calculate WER for each row\n",
        "df['WER'] = df['Recognized'].apply(calculate_wer)\n",
        "\n",
        "# Apply the function to find missing words for each row\n",
        "df['Missing'] = df['Recognized'].apply(find_missing_words)\n",
        "\n",
        "# Apply the function to find added words for each row\n",
        "df['Added'] = df['Recognized'].apply(find_added_words)\n",
        "\n",
        "# Display the updated dataframe\n",
        "# df\n",
        "# Calculate and print the lowest WER\n",
        "lowest_wer = df['WER'].min()\n",
        "print(f\"The lowest WER in the dataset is: {lowest_wer}\")"
      ],
      "metadata": {
        "cellView": "form",
        "id": "94vCy2g_Ae18"
      },
      "execution_count": null,
      "outputs": []
    },
    {
      "cell_type": "markdown",
      "source": [
        "# [4] Say the result"
      ],
      "metadata": {
        "id": "laCvpZmTOoU0"
      }
    },
    {
      "cell_type": "code",
      "source": [
        "#@markdown Say the result\n",
        "\n",
        "import pandas as pd\n",
        "from gtts import gTTS\n",
        "import IPython.display as ipd\n",
        "\n",
        "# Assuming df is your DataFrame with columns 'Group' and 'WER'\n",
        "\n",
        "# Group the data by 'Group' and calculate the mean WER for each group\n",
        "grouped_data = df.groupby('Group')['WER'].mean()\n",
        "\n",
        "# Find the minimum WER value\n",
        "min_wer = grouped_data.min()\n",
        "\n",
        "# Find all groups that share the minimum WER\n",
        "lowest_wer_groups = grouped_data[grouped_data == min_wer].index.tolist()\n",
        "\n",
        "# Extract the numbers from the group names and format them\n",
        "group_numbers = [int(''.join(filter(str.isdigit, group))) for group in lowest_wer_groups]\n",
        "group_numbers = ', '.join(map(str, group_numbers[:-1])) + ' and ' + str(group_numbers[-1]) if len(group_numbers) > 1 else str(group_numbers[0])\n",
        "\n",
        "# Create the message\n",
        "message = f\"Group number {group_numbers}? You did a great job for this activity!\"\n",
        "\n",
        "# Convert the message to speech\n",
        "tts = gTTS(message)\n",
        "tts.save(\"message.mp3\")\n",
        "\n",
        "# Play the message\n",
        "ipd.Audio(\"message.mp3\")\n"
      ],
      "metadata": {
        "cellView": "form",
        "id": "VthUYQDqGila"
      },
      "execution_count": null,
      "outputs": []
    },
    {
      "cell_type": "markdown",
      "source": [
        "# [5] Plotting the result"
      ],
      "metadata": {
        "id": "n0Fm4DmNOxJ9"
      }
    },
    {
      "cell_type": "code",
      "source": [
        "#@markdown Barplot (in order)\n",
        "import matplotlib.pyplot as plt\n",
        "import pandas as pd\n",
        "\n",
        "# Assuming df is your DataFrame with columns 'Group' and 'WER'\n",
        "\n",
        "# Group the data by 'Group' and calculate the mean WER for each group\n",
        "grouped_data = df.groupby('Group')['WER'].mean()\n",
        "\n",
        "# Sort the grouped data by WER values in ascending order\n",
        "grouped_data_sorted = grouped_data.sort_values()\n",
        "\n",
        "# Create the bar plot\n",
        "plt.figure(figsize=(10, 6))\n",
        "grouped_data_sorted.plot(kind='bar', color='skyblue')\n",
        "\n",
        "# Set the y-axis limit\n",
        "plt.ylim(0, 1)\n",
        "\n",
        "# Adding titles and labels\n",
        "plt.title('Word Error Rate by Group (Low to High)')\n",
        "plt.xlabel('Group')\n",
        "plt.ylabel('WER')\n",
        "\n",
        "# Show the plot\n",
        "plt.show()\n"
      ],
      "metadata": {
        "cellView": "form",
        "id": "Eav_8mnHFxut"
      },
      "execution_count": null,
      "outputs": []
    },
    {
      "cell_type": "code",
      "source": [
        "#@markdown Barplot all\n",
        "import matplotlib.pyplot as plt\n",
        "import pandas as pd\n",
        "\n",
        "# Assuming df is your DataFrame with columns 'Group' and 'WER'\n",
        "\n",
        "# Group the data by 'Group' and calculate the mean WER for each group\n",
        "grouped_data = df.groupby('Group')['WER'].mean()\n",
        "\n",
        "# Sort the grouped data by group names to maintain the original order (like G1, G2, ...)\n",
        "grouped_data = grouped_data.sort_index()\n",
        "\n",
        "# Create the bar plot\n",
        "plt.figure(figsize=(10, 6))\n",
        "grouped_data.plot(kind='bar', color='skyblue')\n",
        "\n",
        "# Set the y-axis limit\n",
        "plt.ylim(0, 1)\n",
        "\n",
        "# Adding titles and labels\n",
        "plt.title('Word Error Rate by Group')\n",
        "plt.xlabel('Group')\n",
        "plt.ylabel('WER')\n",
        "\n",
        "# Show the plot\n",
        "plt.show()\n"
      ],
      "metadata": {
        "cellView": "form",
        "id": "IyMDexcCFdDU"
      },
      "execution_count": null,
      "outputs": []
    },
    {
      "cell_type": "markdown",
      "source": [
        "# [6] The result table"
      ],
      "metadata": {
        "id": "3ckG1JvrO1pW"
      }
    },
    {
      "cell_type": "code",
      "source": [
        "df"
      ],
      "metadata": {
        "id": "MlnaTLP0MjRs"
      },
      "execution_count": null,
      "outputs": []
    }
  ]
}