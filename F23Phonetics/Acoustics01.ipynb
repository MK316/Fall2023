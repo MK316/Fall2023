{
  "nbformat": 4,
  "nbformat_minor": 0,
  "metadata": {
    "colab": {
      "private_outputs": true,
      "provenance": [],
      "authorship_tag": "ABX9TyMWm8Qyg8q3yQKjLPwuUPXy",
      "include_colab_link": true
    },
    "kernelspec": {
      "name": "python3",
      "display_name": "Python 3"
    },
    "language_info": {
      "name": "python"
    }
  },
  "cells": [
    {
      "cell_type": "markdown",
      "metadata": {
        "id": "view-in-github",
        "colab_type": "text"
      },
      "source": [
        "<a href=\"https://colab.research.google.com/github/MK316/Fall2023/blob/main/F23Phonetics/Acoustics01.ipynb\" target=\"_parent\"><img src=\"https://colab.research.google.com/assets/colab-badge.svg\" alt=\"Open In Colab\"/></a>"
      ]
    },
    {
      "cell_type": "markdown",
      "source": [
        "# Understanding sounds"
      ],
      "metadata": {
        "id": "gl-NQuuO_2C4"
      }
    },
    {
      "cell_type": "markdown",
      "source": [
        "Sine wave"
      ],
      "metadata": {
        "id": "_GkQnoWFAdTb"
      }
    },
    {
      "cell_type": "markdown",
      "source": [
        "Sound waves\n",
        "\n",
        "+ A = Simple wave (e,g., 100 Hz with amplitude 3)\n",
        "+ B = Simple wave (e.g., 200 Hz with amplitude 2)\n",
        "+ C = Complex wave (A + B)"
      ],
      "metadata": {
        "id": "Fx6Jj4m59oL5"
      }
    },
    {
      "cell_type": "code",
      "source": [
        "#@markdown + Simple waves A, B\n",
        "#@markdown + Complex wave C\n",
        "\n",
        "import numpy as np\n",
        "import matplotlib.pyplot as plt\n",
        "\n",
        "def generate_wave(frequency, amplitude, duration=1, sample_rate=44100):\n",
        "    \"\"\"Generate a sine wave with given frequency and amplitude.\"\"\"\n",
        "    t = np.linspace(0, duration, int(sample_rate * duration), endpoint=False)\n",
        "    wave = amplitude * np.sin(2 * np.pi * frequency * t)\n",
        "    return t, wave\n",
        "\n",
        "def main():\n",
        "    # Generate two simple waves\n",
        "    t, wave1 = generate_wave(100, 3)\n",
        "    _, wave2 = generate_wave(200, 2)\n",
        "\n",
        "    # Determine the indices for 0 to 0.01 seconds\n",
        "    start_idx = 0\n",
        "    end_idx = int(0.01 * 44100)  # assuming a sample rate of 44100\n",
        "\n",
        "    t = t[start_idx:end_idx]\n",
        "    wave1 = wave1[start_idx:end_idx]\n",
        "    wave2 = wave2[start_idx:end_idx]\n",
        "\n",
        "    # Generate combined (complex) wave\n",
        "    combined_wave = wave1 + wave2\n",
        "\n",
        "    # Find the min and max values of the combined wave to set a consistent y-axis across all subplots\n",
        "    ymin = combined_wave.min()\n",
        "    ymax = combined_wave.max()\n",
        "\n",
        "    # Display the simple waves individually\n",
        "    plt.figure(figsize=(12, 8))\n",
        "\n",
        "    plt.subplot(3, 1, 1)\n",
        "    plt.plot(t, wave1, label=\"100 Hz (Amplitude 3)\")\n",
        "    plt.title(\"100 Hz Wave\")\n",
        "    plt.ylim(ymin, ymax)\n",
        "    plt.legend()\n",
        "\n",
        "    plt.subplot(3, 1, 2)\n",
        "    plt.plot(t, wave2, label=\"200 Hz (Amplitude 2)\")\n",
        "    plt.title(\"200 Hz Wave\")\n",
        "    plt.ylim(ymin, ymax)\n",
        "    plt.legend()\n",
        "\n",
        "    # Overlay the two waves\n",
        "    plt.subplot(3, 1, 3)\n",
        "    plt.plot(t, wave1, label=\"100 Hz (Amplitude 3)\")\n",
        "    plt.plot(t, wave2, label=\"200 Hz (Amplitude 2)\", alpha=0.7)\n",
        "    plt.title(\"Overlayed Waves\")\n",
        "    plt.ylim(ymin, ymax)\n",
        "    plt.legend()\n",
        "\n",
        "    plt.tight_layout()\n",
        "    plt.show()\n",
        "\n",
        "    # Display the combined (complex) wave with the derived y-axis range\n",
        "    plt.figure(figsize=(12, 4))\n",
        "    plt.plot(t, combined_wave, label=\"Combined Wave\")\n",
        "    plt.title(\"Combined Wave (100 Hz + 200 Hz)\")\n",
        "    plt.ylim(ymin, ymax)\n",
        "    plt.legend()\n",
        "    plt.show()\n",
        "\n",
        "if __name__ == \"__main__\":\n",
        "    main()\n",
        "\n"
      ],
      "metadata": {
        "cellView": "form",
        "id": "YkRr2dLL9z5_"
      },
      "execution_count": null,
      "outputs": []
    },
    {
      "cell_type": "markdown",
      "source": [
        "# Create sounds"
      ],
      "metadata": {
        "id": "pYz5DGdfCOsL"
      }
    },
    {
      "cell_type": "code",
      "source": [
        "#@markdown Create sound with Frequency and decibel input\n",
        "\n",
        "import numpy as np\n",
        "from scipy.io.wavfile import write\n",
        "import matplotlib.pyplot as plt\n",
        "from IPython.display import Audio, display\n",
        "\n",
        "def generate_wave(frequency, decibel, duration=1, sample_rate=44100):\n",
        "    \"\"\"Generate a sine wave with given frequency and loudness in decibels.\"\"\"\n",
        "    amplitude = 10 ** (decibel / 20.0)\n",
        "    t = np.linspace(0, duration, int(sample_rate * duration), endpoint=False)\n",
        "    wave = amplitude * np.sin(2 * np.pi * frequency * t)\n",
        "    wav_data = np.int16(wave * 32767)\n",
        "    return wav_data\n",
        "\n",
        "def display_and_play(wave_data, sample_rate=44100):\n",
        "    # Display waveform\n",
        "    plt.figure(figsize=(10,4))\n",
        "    plt.plot(wave_data)\n",
        "    plt.title(\"Generated Audio Waveform\")\n",
        "    plt.xlabel(\"Sample\")\n",
        "    plt.ylabel(\"Amplitude\")\n",
        "    plt.show()\n",
        "\n",
        "    # Play audio\n",
        "    display(Audio(wave_data, rate=sample_rate))\n",
        "\n",
        "def main():\n",
        "    frequency = float(input(\"Enter pitch (frequency in Hz): \"))\n",
        "    decibel = float(input(\"Enter loudness (in dB): \"))\n",
        "    wave_data = generate_wave(frequency, decibel)\n",
        "\n",
        "    write('output.wav', 44100, wave_data)\n",
        "    print(\"Saved 1-second wave as 'output.wav'.\")\n",
        "\n",
        "    display_and_play(wave_data)\n",
        "\n",
        "if __name__ == \"__main__\":\n",
        "    main()\n"
      ],
      "metadata": {
        "cellView": "form",
        "id": "LyM1tZZS5bQb"
      },
      "execution_count": null,
      "outputs": []
    },
    {
      "cell_type": "markdown",
      "source": [
        "+ C4 (do) = 261.63 Hz\n",
        "+ E4 (mi) = 329.63 Hz\n",
        "+ G4 (sol) = 392.00 Hz"
      ],
      "metadata": {
        "id": "Va8GdVTY6FQv"
      }
    },
    {
      "cell_type": "code",
      "source": [
        "#@markdown Do-mi-sol (3 seconds)\n",
        "\n",
        "import numpy as np\n",
        "from scipy.io.wavfile import write\n",
        "import matplotlib.pyplot as plt\n",
        "from IPython.display import Audio, display\n",
        "\n",
        "def generate_wave(frequency, duration=1, sample_rate=44100, decibel=0.3):\n",
        "    \"\"\"Generate a sine wave with a given frequency for a given duration.\"\"\"\n",
        "    amplitude = 10 ** (decibel / 20.0)\n",
        "    t = np.linspace(0, duration, int(sample_rate * duration), endpoint=False)\n",
        "    wave = amplitude * np.sin(2 * np.pi * frequency * t)\n",
        "    wav_data = np.int16(wave * 32767)\n",
        "    return wav_data\n",
        "\n",
        "# def display_and_play(wave_data, sample_rate=44100):\n",
        "#     plt.figure(figsize=(10,4))\n",
        "#     plt.plot(wave_data)\n",
        "#     plt.title(\"Generated Audio Waveform\")\n",
        "#     plt.xlabel(\"Sample\")\n",
        "#     plt.ylabel(\"Amplitude\")\n",
        "#     plt.show()\n",
        "#     display(Audio(wave_data, rate=sample_rate))\n",
        "\n",
        "def display_and_play(wave_data, sample_rate=44100):\n",
        "    plt.figure(figsize=(10,4))\n",
        "\n",
        "    # Generate time values for x-axis in seconds\n",
        "    t = np.linspace(0, len(wave_data) / sample_rate, num=len(wave_data))\n",
        "\n",
        "    plt.plot(t, wave_data)\n",
        "    plt.title(\"Generated Audio Waveform\")\n",
        "    plt.xlabel(\"Time (seconds)\")\n",
        "    plt.ylabel(\"Amplitude\")\n",
        "    plt.show()\n",
        "\n",
        "    display(Audio(wave_data, rate=sample_rate))\n",
        "\n",
        "\n",
        "def main():\n",
        "    # Frequencies for do, mi, sol\n",
        "    frequencies = [261.63, 329.63, 392.00]\n",
        "\n",
        "    # Generate waves for each note\n",
        "    waves = [generate_wave(freq, duration=1) for freq in frequencies]\n",
        "\n",
        "    # Concatenate the waves to form a 3-second audio\n",
        "    combined_wave = np.concatenate(waves)\n",
        "\n",
        "    write('notes.wav', 44100, combined_wave)\n",
        "    print(\"Saved 3-second wave as 'notes.wav'.\")\n",
        "\n",
        "    display_and_play(combined_wave)\n",
        "\n",
        "if __name__ == \"__main__\":\n",
        "    main()\n"
      ],
      "metadata": {
        "cellView": "form",
        "id": "N_VWN7NY6IV7"
      },
      "execution_count": null,
      "outputs": []
    }
  ]
}