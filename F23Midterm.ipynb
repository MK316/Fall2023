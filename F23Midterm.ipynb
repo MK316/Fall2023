{
  "nbformat": 4,
  "nbformat_minor": 0,
  "metadata": {
    "colab": {
      "private_outputs": true,
      "provenance": [],
      "authorship_tag": "ABX9TyNhkMHcPKhYyH5/Z/dSnMoF",
      "include_colab_link": true
    },
    "kernelspec": {
      "name": "python3",
      "display_name": "Python 3"
    },
    "language_info": {
      "name": "python"
    }
  },
  "cells": [
    {
      "cell_type": "markdown",
      "metadata": {
        "id": "view-in-github",
        "colab_type": "text"
      },
      "source": [
        "<a href=\"https://colab.research.google.com/github/MK316/Fall2023/blob/main/F23Midterm.ipynb\" target=\"_parent\"><img src=\"https://colab.research.google.com/assets/colab-badge.svg\" alt=\"Open In Colab\"/></a>"
      ]
    },
    {
      "cell_type": "markdown",
      "source": [
        "# Fall 2023 Midterm results"
      ],
      "metadata": {
        "id": "7YDZPVjpckr_"
      }
    },
    {
      "cell_type": "code",
      "source": [
        "import pandas as pd\n",
        "from google.colab import drive\n",
        "drive.mount('/content/drive')\n",
        "\n",
        "df1 = pd.read_csv('/content/drive/MyDrive/F23Phonetics.csv')\n",
        "df3 = pd.read_csv('/content/drive/MyDrive/F23Phonology.csv')"
      ],
      "metadata": {
        "id": "unfZR68ecn_i"
      },
      "execution_count": null,
      "outputs": []
    },
    {
      "cell_type": "markdown",
      "source": [
        "## Phonetics (N=31)"
      ],
      "metadata": {
        "id": "-eZmhhsypnr0"
      }
    },
    {
      "cell_type": "code",
      "source": [
        "#@markdown Data to read\n",
        "# Add 'ID' column by concatenating 'Lastname' and the first 4 letters of 'Email'\n",
        "df1['ID'] = df1.apply(lambda row: row['Lastname'][:1] + '_' + row['Email'][:5], axis=1)\n",
        "# df1['SID'] = df1.apply(lambda row: row['Email'][:5], axis = 1)\n",
        "df2 = df1[['ID','Group','Total']]\n",
        "\n",
        "random_rows = df2.sample(5)\n",
        "print(random_rows)\n",
        "\n"
      ],
      "metadata": {
        "cellView": "form",
        "id": "Lk1N_1V7jmNg"
      },
      "execution_count": null,
      "outputs": []
    },
    {
      "cell_type": "code",
      "source": [
        "#@markdown install libraries to create plots\n",
        "%%capture\n",
        "!pip install seaborn matplotlib\n",
        "\n",
        "import seaborn as sns\n",
        "import matplotlib.pyplot as plt\n"
      ],
      "metadata": {
        "cellView": "form",
        "id": "K-wjzQKKl5jp"
      },
      "execution_count": null,
      "outputs": []
    },
    {
      "cell_type": "code",
      "source": [
        "#@markdown Boxplot (total)\n",
        "plt.figure(figsize=(5, 3))\n",
        "sns.boxplot(y=df2['Total'])\n",
        "plt.title('Boxplot of Midterm Total (N=31)')\n",
        "plt.ylim(30, 64)  # Replace ymin and ymax with your desired values\n",
        "plt.show()"
      ],
      "metadata": {
        "cellView": "form",
        "id": "L2a96quAmDvl"
      },
      "execution_count": null,
      "outputs": []
    },
    {
      "cell_type": "code",
      "source": [
        "#@markdown Dot plot by individuals\n",
        "import seaborn as sns\n",
        "import matplotlib.pyplot as plt\n",
        "import numpy as np\n",
        "\n",
        "# Sort the 'Total' column in decreasing order\n",
        "sorted_total = df2['Total'].sort_values(ascending=False).reset_index(drop=True)\n",
        "\n",
        "# Generate linear numbers from 1 to the length of sorted_total\n",
        "x_values = np.arange(1, len(sorted_total) + 1)\n",
        "\n",
        "# Create the dot plot\n",
        "plt.figure(figsize=(10, 6))\n",
        "sns.scatterplot(x=x_values, y=sorted_total, s=100, color='blue', edgecolor='black', linewidth=0.5)\n",
        "plt.xlabel('Index')\n",
        "plt.ylabel('Total Score')\n",
        "plt.title('Total Scores (31 individuals)')\n",
        "plt.ylim(30, 73)  # Set y-axis limits\n",
        "\n",
        "# Calculate and mark the percentiles with vertical lines\n",
        "for percentile in [10, 30, 50]:\n",
        "    index = int(np.percentile(x_values, percentile))\n",
        "    plt.axvline(x=index, color='red', linestyle='--', label=f'{percentile}th Percentile')\n",
        "\n",
        "plt.legend()\n",
        "plt.show()\n"
      ],
      "metadata": {
        "cellView": "form",
        "id": "MC7kcnwWnCYg"
      },
      "execution_count": null,
      "outputs": []
    },
    {
      "cell_type": "code",
      "source": [
        "#@markdown Boxplot by groups\n",
        "plt.figure(figsize=(8, 4))\n",
        "sns.boxplot(x=df2['Group'], y=df2['Total'])\n",
        "plt.title('Boxplot of Total by Group')\n",
        "plt.show()\n"
      ],
      "metadata": {
        "cellView": "form",
        "id": "iHhJgu6KmJAJ"
      },
      "execution_count": null,
      "outputs": []
    },
    {
      "cell_type": "code",
      "source": [
        "top_5_total = df2.nlargest(5, 'Total')\n",
        "display(top_5_total)"
      ],
      "metadata": {
        "id": "LljBld2TtS4X"
      },
      "execution_count": null,
      "outputs": []
    },
    {
      "cell_type": "markdown",
      "source": [
        "## Phonology (N=26)"
      ],
      "metadata": {
        "id": "MZ57So9Yp_bQ"
      }
    },
    {
      "cell_type": "code",
      "source": [
        "#@markdown Data to read\n",
        "# Add 'ID' column by concatenating 'Lastname' and the first 4 letters of 'Email'\n",
        "df3['ID'] = df3.apply(lambda row: row['Lastname'][:1] + '_' + row['Email'][:5], axis=1)\n",
        "# df1['SID'] = df1.apply(lambda row: row['Email'][:5], axis = 1)\n",
        "df4 = df3[['ID','Group','Total']]\n",
        "\n",
        "random_rows = df4.sample(5)\n",
        "print(random_rows)\n",
        "\n"
      ],
      "metadata": {
        "cellView": "form",
        "id": "OhFDIuMMqLtB"
      },
      "execution_count": null,
      "outputs": []
    },
    {
      "cell_type": "code",
      "source": [
        "#@markdown install libraries to create plots\n",
        "%%capture\n",
        "!pip install seaborn matplotlib\n",
        "\n",
        "import seaborn as sns\n",
        "import matplotlib.pyplot as plt\n"
      ],
      "metadata": {
        "cellView": "form",
        "id": "Q7Zi6oylqLtB"
      },
      "execution_count": null,
      "outputs": []
    },
    {
      "cell_type": "code",
      "source": [
        "#@markdown Boxplot (total)\n",
        "plt.figure(figsize=(5, 3))\n",
        "sns.boxplot(y=df4['Total'], color = 'orange')\n",
        "plt.title('Boxplot of Midterm Total (N=25)')\n",
        "plt.ylim(30, 64)  # Replace ymin and ymax with your desired values\n",
        "plt.show()"
      ],
      "metadata": {
        "cellView": "form",
        "id": "TYYjhXLoqLtB"
      },
      "execution_count": null,
      "outputs": []
    },
    {
      "cell_type": "code",
      "source": [
        "len(df4['ID'])"
      ],
      "metadata": {
        "id": "qFBB-X-Uruh5"
      },
      "execution_count": null,
      "outputs": []
    },
    {
      "cell_type": "code",
      "source": [
        "#@markdown Dot plot by individuals\n",
        "import seaborn as sns\n",
        "import matplotlib.pyplot as plt\n",
        "import numpy as np\n",
        "\n",
        "# Sort the 'Total' column in decreasing order\n",
        "sorted_total = df4['Total'].sort_values(ascending=False).reset_index(drop=True)\n",
        "\n",
        "# Generate linear numbers from 1 to the length of sorted_total\n",
        "x_values = np.arange(1, len(sorted_total) + 1)\n",
        "\n",
        "# Create the dot plot\n",
        "plt.figure(figsize=(10, 6))\n",
        "sns.scatterplot(x=x_values, y=sorted_total, s=100, color='blue', edgecolor='black', linewidth=0.5)\n",
        "plt.xlabel('Index')\n",
        "plt.ylabel('Total Score')\n",
        "plt.title('Total Scores (25 individuals)')\n",
        "plt.ylim(30, 73)  # Set y-axis limits\n",
        "\n",
        "# Calculate and mark the percentiles with vertical lines\n",
        "for percentile in [10, 30, 50]:\n",
        "    index = int(np.percentile(x_values, percentile))\n",
        "    plt.axvline(x=index, color='red', linestyle='--', label=f'{percentile}th Percentile')\n",
        "plt.axhline(y=44, color='green', linestyle='-', label='Y=50')\n",
        "plt.axhline(y=54, color='green', linestyle='-', label='Y=50')\n",
        "\n",
        "\n",
        "plt.legend()\n",
        "plt.show()\n"
      ],
      "metadata": {
        "cellView": "form",
        "id": "d1n5FCq1qLtB"
      },
      "execution_count": null,
      "outputs": []
    },
    {
      "cell_type": "code",
      "source": [
        "#@markdown Boxplot by groups\n",
        "plt.figure(figsize=(8, 4))\n",
        "sns.boxplot(x=df4['Group'], y=df4['Total'])\n",
        "plt.title('Boxplot of Total by Group')\n",
        "plt.show()\n"
      ],
      "metadata": {
        "cellView": "form",
        "id": "BEUMDzARqLtB"
      },
      "execution_count": null,
      "outputs": []
    },
    {
      "cell_type": "code",
      "source": [
        "top_6_total = df4.nlargest(6, 'Total')\n",
        "display(top_6_total)"
      ],
      "metadata": {
        "id": "efzMp47Xtjf-"
      },
      "execution_count": null,
      "outputs": []
    }
  ]
}