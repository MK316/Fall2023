{
  "nbformat": 4,
  "nbformat_minor": 0,
  "metadata": {
    "colab": {
      "private_outputs": true,
      "provenance": [],
      "authorship_tag": "ABX9TyPwh6pLMwMdXWqaW1b7MB6B",
      "include_colab_link": true
    },
    "kernelspec": {
      "name": "python3",
      "display_name": "Python 3"
    },
    "language_info": {
      "name": "python"
    }
  },
  "cells": [
    {
      "cell_type": "markdown",
      "metadata": {
        "id": "view-in-github",
        "colab_type": "text"
      },
      "source": [
        "<a href=\"https://colab.research.google.com/github/MK316/Fall2023/blob/main/Transcription.ipynb\" target=\"_parent\"><img src=\"https://colab.research.google.com/assets/colab-badge.svg\" alt=\"Open In Colab\"/></a>"
      ]
    },
    {
      "cell_type": "markdown",
      "source": [
        "# Phonetic transcription"
      ],
      "metadata": {
        "id": "iAAro-d8EEvm"
      }
    },
    {
      "cell_type": "code",
      "execution_count": null,
      "metadata": {
        "id": "P2oRv0gqEEA1"
      },
      "outputs": [],
      "source": [
        "%%capture\n",
        "!pip install gtts"
      ]
    },
    {
      "cell_type": "code",
      "source": [
        "from gtts import gTTS\n",
        "from IPython.display import Audio, display\n",
        "#@markdown 10 English words to transcribe\n",
        "num = \"7\" #@param = [1, 2, 3, 4, 5, 6, 7, 8, 9, 10]\n",
        "Language = \"en\" #@param = [\"en\",\"fr\",\"zh-CN\",\"es\", \"ko\", \"ja\"]\n",
        "Dialect = \"co.uk\" #@param = [\"com.au\",\"co.uk\",\"us\",\"ca\",\"co.in\",\"ie\", \"co.za\"]\n",
        "pn = int() -1\n",
        "\n",
        "words = [\"language\", \"garage\", \"season\", \"battle\", \"notebook\", \"occrence\", \"mobile\", \"bowl\", \"ball\", \"won't\"]\n",
        "myword = words [int(num)-1]\n",
        "txt = myword\n",
        "\n",
        "if Language == \"en\":\n",
        "  def tts(txt):\n",
        "    text_to_say = txt\n",
        "    gtts_object = gTTS(text = text_to_say,\n",
        "                     lang = \"en\", tld = Dialect,\n",
        "                    slow = False)\n",
        "    gtts_object.save(\"E-audio.mp3\")\n",
        "    return Audio(\"E-audio.mp3\")\n",
        "else:\n",
        "  def tts(txt):\n",
        "    text_to_say = txt\n",
        "    gtts_object = gTTS(text = text_to_say,\n",
        "                       lang = Language, slow = False)\n",
        "    gtts_object.save(\"E-audio.mp3\")\n",
        "    return Audio(\"E-audio.mp3\")\n",
        "\n",
        "tts(txt)\n",
        "Audio(\"E-audio.mp3\", autoplay = True)\n",
        ""
      ],
      "metadata": {
        "cellView": "form",
        "id": "8PmzWvDNJDdn"
      },
      "execution_count": null,
      "outputs": []
    },
    {
      "cell_type": "code",
      "source": [
        "#@markdown Button control TTS: Multi-languages\n",
        "from gtts import gTTS\n",
        "from IPython.display import Audio\n",
        "import ipywidgets as widgets\n",
        "\n",
        "def etts(mytext, lang='en', dialect=None, slow=False):\n",
        "    if slow:\n",
        "        speed = 0.5\n",
        "    else:\n",
        "        speed = 1.0\n",
        "\n",
        "    if dialect:\n",
        "        lang_code = f\"{lang}-{dialect}\"\n",
        "    else:\n",
        "        lang_code = lang\n",
        "\n",
        "    tts = gTTS(mytext, lang=lang_code, slow=slow)\n",
        "    tts.speed = speed\n",
        "    tts.save('sample.mp3')\n",
        "    return Audio('sample.mp3', autoplay=True)\n",
        "\n",
        "# Define the language and dialect options\n",
        "languages = {\n",
        "    'English': 'en',\n",
        "    'French': 'fr',\n",
        "    'German': 'de',\n",
        "    'Italian': 'it',\n",
        "    'Japanese': 'ja',\n",
        "    'Korean': 'ko',\n",
        "    'Spanish': 'es',\n",
        "    'Russian': 'ru'\n",
        "}\n",
        "\n",
        "# Create the language and dialect dropdown widgets\n",
        "lang_dropdown = widgets.Dropdown(options=languages, value='en', description='Language:')\n",
        "\n",
        "# Create the slow checkbox widget\n",
        "slow_checkbox = widgets.Checkbox(value=False, description='Slow')\n",
        "\n",
        "# Define a function to handle the button click event\n",
        "def on_button_click(btn):\n",
        "    lang = lang_dropdown.value\n",
        "    display(etts(input_text.value, lang=lang, slow=False))\n",
        "# Create the text input widget and button\n",
        "input_text = widgets.Text(description='Text:')\n",
        "btn = widgets.Button(description='Speak')\n",
        "btn.on_click(on_button_click)\n",
        "\n",
        "# Display the widgets\n",
        "display(widgets.VBox([input_text, lang_dropdown, slow_checkbox, btn]))\n"
      ],
      "metadata": {
        "cellView": "form",
        "id": "yeWfaPypGhvn"
      },
      "execution_count": null,
      "outputs": []
    }
  ]
}