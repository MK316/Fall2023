{
  "nbformat": 4,
  "nbformat_minor": 0,
  "metadata": {
    "colab": {
      "private_outputs": true,
      "provenance": [],
      "authorship_tag": "ABX9TyPRqyptD19yspcp1+741Eil",
      "include_colab_link": true
    },
    "kernelspec": {
      "name": "python3",
      "display_name": "Python 3"
    },
    "language_info": {
      "name": "python"
    }
  },
  "cells": [
    {
      "cell_type": "markdown",
      "metadata": {
        "id": "view-in-github",
        "colab_type": "text"
      },
      "source": [
        "<a href=\"https://colab.research.google.com/github/MK316/Fall2023/blob/main/F23_Gradechecking.ipynb\" target=\"_parent\"><img src=\"https://colab.research.google.com/assets/colab-badge.svg\" alt=\"Open In Colab\"/></a>"
      ]
    },
    {
      "cell_type": "markdown",
      "source": [
        "# Grade details to check:\n",
        "\n",
        "The user will type his passcode, and the details of his grade will display.\n",
        "\n",
        "File: upload csv file"
      ],
      "metadata": {
        "id": "qsq3iQAg8DBA"
      }
    },
    {
      "cell_type": "code",
      "source": [
        "%%capture\n",
        "!pip install gradio"
      ],
      "metadata": {
        "id": "CaNTb65WyAW9"
      },
      "execution_count": null,
      "outputs": []
    },
    {
      "cell_type": "code",
      "source": [
        "# Specify the path to your CSV file\n",
        "csv_file_path = '/content/F23Phonetics_tocheck.csv'  # Replace 'your_file.csv' with your actual file name"
      ],
      "metadata": {
        "id": "rcOGBFMO8YPr"
      },
      "execution_count": null,
      "outputs": []
    },
    {
      "cell_type": "code",
      "source": [
        "#@markdown Update gradio if errors show up\n",
        "# !pip install -U gradio"
      ],
      "metadata": {
        "id": "UaEB2lTpy7iA"
      },
      "execution_count": null,
      "outputs": []
    },
    {
      "cell_type": "code",
      "source": [
        "#@markdown Gradio link (dataframe type horizontal)\n",
        "\n",
        "import gradio as gr\n",
        "import pandas as pd\n",
        "\n",
        "\n",
        "# Read the CSV file\n",
        "df = pd.read_csv(csv_file_path)\n",
        "\n",
        "# Ensure 'SID' is string for correct matching\n",
        "df['PW'] = df['PW'].astype(str)\n",
        "\n",
        "# Function to get and display student details\n",
        "def get_student_details(sid):\n",
        "    student_row = df[df['PW'].str.strip() == sid.strip()]\n",
        "    if not student_row.empty:\n",
        "        # Display only the required columns\n",
        "        return student_row[['Name', 'Group', 'Extra','Midterm','Final','GroupActivity','Total', 'Rank', 'Letter']]\n",
        "    else:\n",
        "        # Return an empty DataFrame with the same columns if no match is found\n",
        "        return pd.DataFrame(columns=['Name', 'Group', 'Extra','Midterm','Final','GroupActivity','Total', 'Rank', 'Letter'])\n",
        "\n",
        "# Create Gradio interface\n",
        "iface = gr.Interface(\n",
        "    fn=get_student_details,\n",
        "    inputs=gr.Textbox(label=\"Enter your Passcode\"),\n",
        "    outputs=gr.Dataframe(label=\"Phonetics Grade Details (Fall 2023)\"),\n",
        "    title=\"Grade Details Lookup\",\n",
        "    description=\"Enter your Passcode to check your grade details\"\n",
        ")\n",
        "\n",
        "iface.launch()\n"
      ],
      "metadata": {
        "cellView": "form",
        "id": "rQa6Tg2Y1b3c"
      },
      "execution_count": null,
      "outputs": []
    },
    {
      "cell_type": "markdown",
      "source": [
        "## Phonetics Grade to check\n",
        "\n",
        "File name: F23Phonetics_tocheck.csv (icoud)"
      ],
      "metadata": {
        "id": "K1BpkglYXcpr"
      }
    },
    {
      "cell_type": "code",
      "source": [
        "#@markdown Gradio link\n",
        "import gradio as gr\n",
        "import pandas as pd\n",
        "\n",
        "# Specify the path to your CSV file\n",
        "# csv_file_path = '/content/gradebook.csv'  # Replace 'gradebook.csv' with your actual file name\n",
        "\n",
        "# Read the CSV file\n",
        "df = pd.read_csv(csv_file_path)\n",
        "\n",
        "# Ensure 'SID' is string for correct matching\n",
        "df['PW'] = df['PW'].astype(str)\n",
        "\n",
        "# Function to get and display student details\n",
        "def get_student_details(sid):\n",
        "    student_row = df[df['PW'].str.strip() == sid.strip()]\n",
        "    if not student_row.empty:\n",
        "        # Extracting values for separate textboxes\n",
        "        details = student_row.iloc[0][['Name', 'Group', 'Extra','Midterm','Final','GroupActivity','Attendance','Total', 'Rank', 'Letter']].tolist()\n",
        "        # return details + [\"\"] * (10 - len(details))  # Ensure list has 6 elements\n",
        "        return details\n",
        "    else:\n",
        "        # Return placeholder values if no match is found\n",
        "        return [\"\"] * 9\n",
        "\n",
        "# Define the output components for each column\n",
        "outputs = [\n",
        "    gr.Textbox(label=\"Name\"),\n",
        "    gr.Textbox(label=\"Group\"),\n",
        "    gr.Textbox(label=\"Extra\"),\n",
        "    gr.Textbox(label=\"Midterm (25%): Extra points are already added here\"),\n",
        "    gr.Textbox(label=\"Final (35%)\"),\n",
        "    gr.Textbox(label=\"GroupActivity (30%)\"),\n",
        "    gr.Textbox(label=\"Attendance (10%)\"),\n",
        "    gr.Textbox(label=\"Total (Max 110 points)\"),\n",
        "    gr.Textbox(label=\"Rank (from the top)\"),\n",
        "    gr.Textbox(label=\"Expected Letter Grade: This can change after our review process\")\n",
        "]\n",
        "\n",
        "# Create Gradio interface\n",
        "iface = gr.Interface(\n",
        "    fn=get_student_details,\n",
        "    inputs=gr.Textbox(label=\"Enter your Passcode\", placeholder=\"Type your passcode here\"),\n",
        "    outputs=outputs,\n",
        "    title=\"Phonetics Grade Details (Fall 2023)\",\n",
        "    description=\"Enter your Passcode to get grade your details\"\n",
        ")\n",
        "\n",
        "iface.launch()\n"
      ],
      "metadata": {
        "cellView": "form",
        "id": "eUO2Tvro6wuf"
      },
      "execution_count": null,
      "outputs": []
    }
  ]
}