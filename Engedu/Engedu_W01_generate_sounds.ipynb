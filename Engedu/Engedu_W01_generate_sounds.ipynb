{
  "nbformat": 4,
  "nbformat_minor": 0,
  "metadata": {
    "colab": {
      "private_outputs": true,
      "provenance": [],
      "authorship_tag": "ABX9TyP4w4lgM6RlN/T9Zk5aWqUY",
      "include_colab_link": true
    },
    "kernelspec": {
      "name": "python3",
      "display_name": "Python 3"
    },
    "language_info": {
      "name": "python"
    }
  },
  "cells": [
    {
      "cell_type": "markdown",
      "metadata": {
        "id": "view-in-github",
        "colab_type": "text"
      },
      "source": [
        "<a href=\"https://colab.research.google.com/github/MK316/Fall2023/blob/main/Engedu/Engedu_W01_generate_sounds.ipynb\" target=\"_parent\"><img src=\"https://colab.research.google.com/assets/colab-badge.svg\" alt=\"Open In Colab\"/></a>"
      ]
    },
    {
      "cell_type": "markdown",
      "source": [
        "# 🌀 Generating sounds (words) using {gtts}"
      ],
      "metadata": {
        "id": "qCQnci5Gl3AO"
      }
    },
    {
      "cell_type": "markdown",
      "source": [
        "Install packages"
      ],
      "metadata": {
        "id": "s-R5REHGnSfo"
      }
    },
    {
      "cell_type": "code",
      "source": [
        "!pip install gtts\n",
        "!pip install pydub"
      ],
      "metadata": {
        "id": "mxRXR0rlkkAZ"
      },
      "execution_count": null,
      "outputs": []
    },
    {
      "cell_type": "markdown",
      "source": [
        "The following words are possible English words but do not actually exist in English."
      ],
      "metadata": {
        "id": "0w18lIa29CPa"
      }
    },
    {
      "cell_type": "code",
      "source": [
        "\n",
        "from IPython.display import display, Audio\n",
        "from gtts import gTTS\n",
        "import os\n",
        "\n",
        "word_list = [\"fauxhawk\", \"cromulent\", \"interrobang\", \"gobbledygook\", \"quixotic\", \"spork\", \"zaftig\", \"kvetch\", \"noodlephobia\", \"cafetorium\"]\n",
        "\n",
        "#@title Select a word to play\n",
        "selected_word = \"interrobang\" #@param [\"fauxhawk\", \"cromulent\", \"interrobang\", \"gobbledygook\", \"quixotic\", \"spork\", \"zaftig\", \"kvetch\", \"noodlephobia\", \"cafetorium\"]\n",
        "\n",
        "# Convert selected_word to speech\n",
        "tts = gTTS(selected_word, lang='en')\n",
        "audio_path = f\"{selected_word}.mp3\"\n",
        "tts.save(audio_path)\n",
        "\n",
        "# Play the generated audio\n",
        "display(Audio(filename=audio_path, autoplay=True))\n",
        "\n",
        "# Optionally delete the generated file after playing if you don't want to keep it\n",
        "os.remove(audio_path)\n"
      ],
      "metadata": {
        "cellView": "form",
        "id": "41cLjISik8d7"
      },
      "execution_count": null,
      "outputs": []
    },
    {
      "cell_type": "markdown",
      "source": [
        "## 🎶 Generate speech as you type"
      ],
      "metadata": {
        "id": "0wk6s2JnmWOi"
      }
    },
    {
      "cell_type": "code",
      "source": [
        "#@markdown 🔵 Speech as you type:\n",
        "from gtts import gTTS\n",
        "from IPython.display import Audio, display\n",
        "\n",
        "# Get the word from the user\n",
        "word = input(\"Enter a word: \")\n",
        "\n",
        "# Create a gTTS object and generate speech\n",
        "tts = gTTS(word, lang=\"en\")\n",
        "\n",
        "# Specify the filename for the speech file based on the user's word\n",
        "output_filename = f\"{word}.mp3\"\n",
        "\n",
        "# Save the speech as an MP3 file with the provided word as the filename\n",
        "tts.save(output_filename)\n",
        "\n",
        "# Create an Audio widget to automatically play the generated speech\n",
        "audio_widget = Audio(filename=output_filename, autoplay=True)\n",
        "\n",
        "# Display the audio to play it automatically\n",
        "display(audio_widget)\n"
      ],
      "metadata": {
        "cellView": "form",
        "id": "KtPlu-_ymZos"
      },
      "execution_count": null,
      "outputs": []
    }
  ]
}