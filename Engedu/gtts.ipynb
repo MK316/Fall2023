{
  "nbformat": 4,
  "nbformat_minor": 0,
  "metadata": {
    "colab": {
      "private_outputs": true,
      "provenance": [],
      "authorship_tag": "ABX9TyOLCo3ZZ9EqRYUOsISg9dhD",
      "include_colab_link": true
    },
    "kernelspec": {
      "name": "python3",
      "display_name": "Python 3"
    },
    "language_info": {
      "name": "python"
    }
  },
  "cells": [
    {
      "cell_type": "markdown",
      "metadata": {
        "id": "view-in-github",
        "colab_type": "text"
      },
      "source": [
        "<a href=\"https://colab.research.google.com/github/MK316/Fall2023/blob/main/Engedu/gtts.ipynb\" target=\"_parent\"><img src=\"https://colab.research.google.com/assets/colab-badge.svg\" alt=\"Open In Colab\"/></a>"
      ]
    },
    {
      "cell_type": "markdown",
      "source": [
        "# 🌀 Generating speech using gtts (Google Text-To-Speech): Multi-languages (Korean, English, Russian)"
      ],
      "metadata": {
        "id": "taYyESLEcGoC"
      }
    },
    {
      "cell_type": "markdown",
      "source": [
        "* Install necessary libraries"
      ],
      "metadata": {
        "id": "ibjzDtpZc9bf"
      }
    },
    {
      "cell_type": "code",
      "source": [
        "%%capture\n",
        "!pip install gtts\n",
        "!pip install IPython"
      ],
      "metadata": {
        "id": "rG0Hrwq7cKx_"
      },
      "execution_count": null,
      "outputs": []
    },
    {
      "cell_type": "markdown",
      "source": [
        "1. Choose language options (Korean, English, Russian)\n",
        "2. Type texts for speech (you'll see a textbox.)"
      ],
      "metadata": {
        "id": "ED7I_qOCexoQ"
      }
    },
    {
      "cell_type": "markdown",
      "source": [
        "1. Nice to meet you.\n",
        "\n",
        "Приятно познакомиться. (Prijatno poznakomit'sja.)\n",
        "\n",
        "2. Thank you very much.\n",
        "\n",
        "Спасибо большое. (Spasibo bol'shoe.)\n",
        "\n",
        "3. It's raining today.\n",
        "\n",
        "Сегодня идёт дождь. (Segodnja idjot dozhd'.)\n",
        "\n",
        "4. Good job!\n",
        "\n",
        "Молодец! (Molodets!)"
      ],
      "metadata": {
        "id": "dQUj78Lr-BPt"
      }
    },
    {
      "cell_type": "code",
      "source": [
        "from gtts import gTTS\n",
        "\n",
        "choice = \"Russian\" #@param [\"Korean\",\"English\",\"Russian\"]\n",
        "\n",
        "# Mapping choice to language code for gTTS\n",
        "lang_map = {\n",
        "    'English': \"en\",\n",
        "    'Korean': \"ko\",\n",
        "    'Russian': \"ru\"\n",
        "}\n",
        "lang_code = lang_map[choice]\n",
        "\n",
        "# Function to generate speech\n",
        "def text_to_speech(text, lang):\n",
        "    tts = gTTS(text=text, lang=lang)\n",
        "    tts.save('mysample.mp3')\n",
        "\n",
        "# Get text input from the user\n",
        "text_input = input(\"Enter the text you want to convert to speech: \")\n",
        "\n",
        "# Generate speech\n",
        "text_to_speech(text_input, lang_code)\n",
        "print(\"Saved the speech to 'mysample.mp3'.\")\n",
        "\n",
        "from IPython.display import Audio\n",
        "\n",
        "# Play the saved audio\n",
        "Audio(\"mysample.mp3\")"
      ],
      "metadata": {
        "id": "qxyAVSZOcPH_",
        "cellView": "form"
      },
      "execution_count": null,
      "outputs": []
    },
    {
      "cell_type": "markdown",
      "source": [
        "# Gradio (live app link)"
      ],
      "metadata": {
        "id": "QP_EzuEwfcd1"
      }
    },
    {
      "cell_type": "code",
      "source": [
        "!pip install gradio gtts"
      ],
      "metadata": {
        "id": "jWoaVRzVffAh"
      },
      "execution_count": null,
      "outputs": []
    },
    {
      "cell_type": "code",
      "source": [
        "#@markdown Gradio codes for the gTTS app\n",
        "import gradio as gr\n",
        "from gtts import gTTS\n",
        "import IPython.display as ipd\n",
        "\n",
        "# Function to generate speech\n",
        "def text_to_speech(text, lang):\n",
        "    tts = gTTS(text=text, lang=lang)\n",
        "    tts.save('mysample.mp3')\n",
        "\n",
        "# Function for Gradio interface\n",
        "def gradio_interface(input_text, language):\n",
        "    lang_map = {\n",
        "        'English': \"en\",\n",
        "        'Korean': \"ko\",\n",
        "        'Russian': \"ru\"\n",
        "    }\n",
        "    text_to_speech(input_text, lang_map[language])\n",
        "    return 'mysample.mp3'\n",
        "\n",
        "# Create Gradio UI\n",
        "iface = gr.Interface(\n",
        "    fn=gradio_interface,\n",
        "    inputs=[\n",
        "        gr.components.Textbox(label=\"Enter text\"),\n",
        "        gr.components.Dropdown(choices=[\"English\", \"Korean\", \"Russian\"], label=\"Language\")\n",
        "    ],\n",
        "    outputs=gr.components.Audio(type=\"filepath\", label=\"Generated Speech\"),\n",
        "    live=True\n",
        ")\n",
        "\n",
        "iface.launch(share=True)\n"
      ],
      "metadata": {
        "cellView": "form",
        "id": "IaZaEYPufiz5"
      },
      "execution_count": null,
      "outputs": []
    },
    {
      "cell_type": "markdown",
      "source": [
        "# QR code to generate"
      ],
      "metadata": {
        "id": "H1209pc-gJMT"
      }
    },
    {
      "cell_type": "code",
      "source": [
        "%%capture\n",
        "!pip install qrcode[pil]"
      ],
      "metadata": {
        "id": "uTYZX8sFgL9M"
      },
      "execution_count": null,
      "outputs": []
    },
    {
      "cell_type": "code",
      "source": [
        "#@markdown QR code to generate: paste your link when asked.\n",
        "import qrcode\n",
        "from IPython.display import display\n",
        "\n",
        "# Get the link from the user\n",
        "link = input(\"Enter the link to generate a QR code: \")\n",
        "\n",
        "# Generate QR code\n",
        "qr = qrcode.QRCode(\n",
        "    version=1,\n",
        "    error_correction=qrcode.constants.ERROR_CORRECT_L,\n",
        "    box_size=10,\n",
        "    border=4,\n",
        ")\n",
        "qr.add_data(link)\n",
        "qr.make(fit=True)\n",
        "\n",
        "# Create an Image object and display it within the notebook\n",
        "img = qr.make_image(fill_color=\"black\", back_color=\"white\")\n",
        "display(img)\n"
      ],
      "metadata": {
        "cellView": "form",
        "id": "-3WhtxlNgN7c"
      },
      "execution_count": null,
      "outputs": []
    }
  ]
}